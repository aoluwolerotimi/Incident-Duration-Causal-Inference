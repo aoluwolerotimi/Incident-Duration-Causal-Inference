{
  "cells": [
    {
      "cell_type": "markdown",
      "metadata": {
        "id": "kAP3oQf33k3F"
      },
      "source": [
        "## Framing the Problem\n",
        "**Objective:** To detect the presence (or non-presence) of a causal impact of the time delay between a ServiceNow incident ticket being opened and its subsquent access (i.e. for initial triage) on the overall resolution time.\n",
        "\n",
        "**Business Impact:**\n",
        "Understanding the causal relationship between triage delay and resolution time can inform process improvements in incident management. Specifically, it can help determine whether targeted strategies to reduce initial triage times are worth the organizational resources to implement them.\n",
        "\n",
        "**Findings Summary**:\n",
        "Across various models and upon test sets, the average treatment effect of first access being over 12 hrs from ticket open was between a 30 to 40 hrs increase in time to resolve.\n",
        "\n",
        "Accordingly, a costed analysis of this extra duration compared to triage management interventions appears warranted."
      ]
    },
    {
      "cell_type": "markdown",
      "metadata": {
        "id": "HqoC7qYR2gnE"
      },
      "source": [
        "## Task 1 - Loading Key Libraries"
      ]
    },
    {
      "cell_type": "code",
      "execution_count": 2,
      "metadata": {
        "id": "T4aVkNEpjlXC"
      },
      "outputs": [],
      "source": [
        "import matplotlib\n",
        "import matplotlib.pyplot as plt"
      ]
    },
    {
      "cell_type": "code",
      "execution_count": 4,
      "metadata": {
        "id": "GuMET9pyjs4r"
      },
      "outputs": [],
      "source": [
        "# !pip install causalml"
      ]
    },
    {
      "cell_type": "code",
      "execution_count": 5,
      "metadata": {
        "colab": {
          "base_uri": "https://localhost:8080/"
        },
        "id": "o2LWarN6kRRa",
        "outputId": "384642c0-ff65-460d-ea13-e52bee6d5eb8"
      },
      "outputs": [
        {
          "name": "stdout",
          "output_type": "stream",
          "text": [
            "Mounted at /content/drive\n"
          ]
        }
      ],
      "source": [
        "import causalml\n",
        "from causalml.inference.meta import LRSRegressor\n",
        "from causalml.inference.meta import XGBTRegressor\n",
        "from sklearn.preprocessing import OrdinalEncoder\n",
        "from google.colab import drive\n",
        "drive.mount('/content/drive')"
      ]
    },
    {
      "cell_type": "code",
      "execution_count": 6,
      "metadata": {
        "id": "HMAaRzD9kep_"
      },
      "outputs": [],
      "source": [
        "import pandas as pd\n",
        "import numpy as np"
      ]
    },
    {
      "cell_type": "markdown",
      "metadata": {
        "id": "C2QFsyfn2-kb"
      },
      "source": [
        "## Task 1.1 - Loading Data\n",
        "As in assignment 1, a a ServiceNow™ incident management dataset is being used. The dataset is imported at a stage of minimal preprocessing as indicated by the commented code below. This preprocessing was done as part of assignment 1."
      ]
    },
    {
      "cell_type": "code",
      "execution_count": null,
      "metadata": {
        "id": "W4sDfRDr12Eh"
      },
      "outputs": [],
      "source": [
        "# # Subset to only closed incidents\n",
        "# all_data = pd.read_csv('incident_event_log.csv')\n",
        "# incidents = all_data[all_data['incident_state'] == 'Closed'].copy()\n",
        "\n",
        "# # Convert from log with multiple incident ID appearances to dataset where only the final log entry is kept\n",
        "# # Copy all duplicated incidents to new dataframe\n",
        "# incidents_dup = incidents[incidents['number'].duplicated(keep=False)].copy()\n",
        "\n",
        "# # Convert sys_updated_at to datetime, with dayfirst=True\n",
        "# incidents_dup['sys_updated_at'] = pd.to_datetime(incidents_dup['sys_updated_at'], dayfirst=True)\n",
        "\n",
        "# # Get the unique incident numbers in incidents_dup\n",
        "# dup_nums = incidents_dup['number'].unique()\n",
        "\n",
        "# to_keep = []\n",
        "# for num in dup_nums:\n",
        "#     to_keep.append(incidents_dup[incidents_dup['number'] == num]['sys_updated_at'].idxmax())\n",
        "\n",
        "# to_drop = []\n",
        "# # get the index of all rows in incidents_dup other than those in to_keep\n",
        "# for i in incidents_dup.index:\n",
        "#     if i not in to_keep:\n",
        "#         to_drop.append(i)\n",
        "\n",
        "# # drop duplicate closed from incidents\n",
        "# incidents.drop(to_drop, inplace=True)\n",
        "\n",
        "# # Check for duplicates in \"number\" column\n",
        "# incidents['number'].duplicated().sum()\n",
        "\n",
        "# # Handle \"?\" in place of N/A values\n",
        "# incidents.isin(['?']).sum(axis=0)\n",
        "# incidents.replace('?', np.nan, inplace=True)\n",
        "# incidents.isin(['?']).sum(axis=0)\n",
        "\n",
        "# # Assign proper date-time data type\n",
        "# date_cols = ['opened_at', 'sys_created_at', 'sys_updated_at', 'resolved_at', 'closed_at']\n",
        "\n",
        "# # Convert columns in incidents to datetime\n",
        "# for col in date_cols:\n",
        "#     incidents[col] = pd.to_datetime(incidents[col], dayfirst=True)\n",
        "\n",
        "# incidents.info()\n",
        "\n",
        "# # Write to csv for causal inference task\n",
        "# incidents.to_csv('incidents.csv', index=True)"
      ]
    },
    {
      "cell_type": "markdown",
      "metadata": {
        "id": "NTb4UGgg8k_r"
      },
      "source": [
        "**Data Dictionary**"
      ]
    },
    {
      "cell_type": "code",
      "execution_count": 83,
      "metadata": {
        "id": "Km_LnOeu8T4u"
      },
      "outputs": [],
      "source": [
        "file_path = '/content/drive/My Drive/Datasets/incidents-datadict.csv'\n",
        "data_dict = pd.read_csv(file_path)"
      ]
    },
    {
      "cell_type": "code",
      "execution_count": 84,
      "metadata": {
        "colab": {
          "base_uri": "https://localhost:8080/",
          "height": 1000
        },
        "id": "p3ZwLQAt89Kk",
        "outputId": "a1e41955-dff1-4f9b-d7cb-657f3314393d"
      },
      "outputs": [
        {
          "data": {
            "text/html": [
              "\n",
              "  <div id=\"df-a4c1c6e2-dd9e-4a1f-831b-297a85302068\" class=\"colab-df-container\">\n",
              "    <div>\n",
              "<style scoped>\n",
              "    .dataframe tbody tr th:only-of-type {\n",
              "        vertical-align: middle;\n",
              "    }\n",
              "\n",
              "    .dataframe tbody tr th {\n",
              "        vertical-align: top;\n",
              "    }\n",
              "\n",
              "    .dataframe thead th {\n",
              "        text-align: right;\n",
              "    }\n",
              "</style>\n",
              "<table border=\"1\" class=\"dataframe\">\n",
              "  <thead>\n",
              "    <tr style=\"text-align: right;\">\n",
              "      <th></th>\n",
              "      <th>Variable Name</th>\n",
              "      <th>Variable Description</th>\n",
              "    </tr>\n",
              "  </thead>\n",
              "  <tbody>\n",
              "    <tr>\n",
              "      <th>0</th>\n",
              "      <td>number</td>\n",
              "      <td>incident identifier</td>\n",
              "    </tr>\n",
              "    <tr>\n",
              "      <th>1</th>\n",
              "      <td>incident state</td>\n",
              "      <td>eight levels controlling the incident managem...</td>\n",
              "    </tr>\n",
              "    <tr>\n",
              "      <th>2</th>\n",
              "      <td>active</td>\n",
              "      <td>boolean attribute that shows whether the reco...</td>\n",
              "    </tr>\n",
              "    <tr>\n",
              "      <th>3</th>\n",
              "      <td>reassignment_count</td>\n",
              "      <td>number of times the incident has the group or...</td>\n",
              "    </tr>\n",
              "    <tr>\n",
              "      <th>4</th>\n",
              "      <td>reopen_count</td>\n",
              "      <td>number of times the incident resolution was r...</td>\n",
              "    </tr>\n",
              "    <tr>\n",
              "      <th>5</th>\n",
              "      <td>sys_mod_count</td>\n",
              "      <td>number of incident updates until that moment</td>\n",
              "    </tr>\n",
              "    <tr>\n",
              "      <th>6</th>\n",
              "      <td>made_sla</td>\n",
              "      <td>boolean attribute that shows whether the inci...</td>\n",
              "    </tr>\n",
              "    <tr>\n",
              "      <th>7</th>\n",
              "      <td>caller_id</td>\n",
              "      <td>identifier of the user affected</td>\n",
              "    </tr>\n",
              "    <tr>\n",
              "      <th>8</th>\n",
              "      <td>opened_by</td>\n",
              "      <td>identifier of the user who reported the incident</td>\n",
              "    </tr>\n",
              "    <tr>\n",
              "      <th>9</th>\n",
              "      <td>opened_at</td>\n",
              "      <td>incident user opening date and time</td>\n",
              "    </tr>\n",
              "    <tr>\n",
              "      <th>10</th>\n",
              "      <td>sys_created_by</td>\n",
              "      <td>identifier of the user who registered the inc...</td>\n",
              "    </tr>\n",
              "    <tr>\n",
              "      <th>11</th>\n",
              "      <td>sys_created_at</td>\n",
              "      <td>incident system creation date and time</td>\n",
              "    </tr>\n",
              "    <tr>\n",
              "      <th>12</th>\n",
              "      <td>sys_updated_by</td>\n",
              "      <td>identifier of the user who updated the incide...</td>\n",
              "    </tr>\n",
              "    <tr>\n",
              "      <th>13</th>\n",
              "      <td>sys_updated_at</td>\n",
              "      <td>incident system update date and time</td>\n",
              "    </tr>\n",
              "    <tr>\n",
              "      <th>14</th>\n",
              "      <td>contact_type</td>\n",
              "      <td>categorical attribute that shows by what mean...</td>\n",
              "    </tr>\n",
              "    <tr>\n",
              "      <th>15</th>\n",
              "      <td>location</td>\n",
              "      <td>identifier of the location of the place affected</td>\n",
              "    </tr>\n",
              "    <tr>\n",
              "      <th>16</th>\n",
              "      <td>category</td>\n",
              "      <td>first-level description of the affected service</td>\n",
              "    </tr>\n",
              "    <tr>\n",
              "      <th>17</th>\n",
              "      <td>subcategory</td>\n",
              "      <td>second-level description of the affected serv...</td>\n",
              "    </tr>\n",
              "    <tr>\n",
              "      <th>18</th>\n",
              "      <td>u_symptom</td>\n",
              "      <td>description of the user perception about serv...</td>\n",
              "    </tr>\n",
              "    <tr>\n",
              "      <th>19</th>\n",
              "      <td>cmdb_ci</td>\n",
              "      <td>(confirmation item) identifier used to report...</td>\n",
              "    </tr>\n",
              "    <tr>\n",
              "      <th>20</th>\n",
              "      <td>impact</td>\n",
              "      <td>description of the impact caused by the incid...</td>\n",
              "    </tr>\n",
              "    <tr>\n",
              "      <th>21</th>\n",
              "      <td>urgency</td>\n",
              "      <td>description of the urgency informed by the us...</td>\n",
              "    </tr>\n",
              "    <tr>\n",
              "      <th>22</th>\n",
              "      <td>priority</td>\n",
              "      <td>calculated by the system based on 'impact' an...</td>\n",
              "    </tr>\n",
              "    <tr>\n",
              "      <th>23</th>\n",
              "      <td>assignment_group</td>\n",
              "      <td>identifier of the support group in charge of ...</td>\n",
              "    </tr>\n",
              "    <tr>\n",
              "      <th>24</th>\n",
              "      <td>assigned_to</td>\n",
              "      <td>identifier of the user in charge of the incident</td>\n",
              "    </tr>\n",
              "    <tr>\n",
              "      <th>25</th>\n",
              "      <td>knowledge</td>\n",
              "      <td>boolean attribute that shows whether a knowle...</td>\n",
              "    </tr>\n",
              "    <tr>\n",
              "      <th>26</th>\n",
              "      <td>u_priority_confirmation</td>\n",
              "      <td>boolean attribute that shows whether the prio...</td>\n",
              "    </tr>\n",
              "    <tr>\n",
              "      <th>27</th>\n",
              "      <td>notify</td>\n",
              "      <td>categorical attribute that shows whether noti...</td>\n",
              "    </tr>\n",
              "    <tr>\n",
              "      <th>28</th>\n",
              "      <td>problem_id</td>\n",
              "      <td>identifier of the problem associated with the...</td>\n",
              "    </tr>\n",
              "    <tr>\n",
              "      <th>29</th>\n",
              "      <td>rfc</td>\n",
              "      <td>(request for change) identifier of the change...</td>\n",
              "    </tr>\n",
              "    <tr>\n",
              "      <th>30</th>\n",
              "      <td>vendor</td>\n",
              "      <td>identifier of the vendor in charge of the inc...</td>\n",
              "    </tr>\n",
              "    <tr>\n",
              "      <th>31</th>\n",
              "      <td>caused_by</td>\n",
              "      <td>identifier of the RFC responsible by the inci...</td>\n",
              "    </tr>\n",
              "    <tr>\n",
              "      <th>32</th>\n",
              "      <td>close_code</td>\n",
              "      <td>identifier of the resolution of the incident</td>\n",
              "    </tr>\n",
              "    <tr>\n",
              "      <th>33</th>\n",
              "      <td>resolved_by</td>\n",
              "      <td>identifier of the user who resolved the incident</td>\n",
              "    </tr>\n",
              "    <tr>\n",
              "      <th>34</th>\n",
              "      <td>resolved_at</td>\n",
              "      <td>incident user resolution date and time</td>\n",
              "    </tr>\n",
              "    <tr>\n",
              "      <th>35</th>\n",
              "      <td>closed_at</td>\n",
              "      <td>incident user close date and time</td>\n",
              "    </tr>\n",
              "  </tbody>\n",
              "</table>\n",
              "</div>\n",
              "    <div class=\"colab-df-buttons\">\n",
              "\n",
              "  <div class=\"colab-df-container\">\n",
              "    <button class=\"colab-df-convert\" onclick=\"convertToInteractive('df-a4c1c6e2-dd9e-4a1f-831b-297a85302068')\"\n",
              "            title=\"Convert this dataframe to an interactive table.\"\n",
              "            style=\"display:none;\">\n",
              "\n",
              "  <svg xmlns=\"http://www.w3.org/2000/svg\" height=\"24px\" viewBox=\"0 -960 960 960\">\n",
              "    <path d=\"M120-120v-720h720v720H120Zm60-500h600v-160H180v160Zm220 220h160v-160H400v160Zm0 220h160v-160H400v160ZM180-400h160v-160H180v160Zm440 0h160v-160H620v160ZM180-180h160v-160H180v160Zm440 0h160v-160H620v160Z\"/>\n",
              "  </svg>\n",
              "    </button>\n",
              "\n",
              "  <style>\n",
              "    .colab-df-container {\n",
              "      display:flex;\n",
              "      gap: 12px;\n",
              "    }\n",
              "\n",
              "    .colab-df-convert {\n",
              "      background-color: #E8F0FE;\n",
              "      border: none;\n",
              "      border-radius: 50%;\n",
              "      cursor: pointer;\n",
              "      display: none;\n",
              "      fill: #1967D2;\n",
              "      height: 32px;\n",
              "      padding: 0 0 0 0;\n",
              "      width: 32px;\n",
              "    }\n",
              "\n",
              "    .colab-df-convert:hover {\n",
              "      background-color: #E2EBFA;\n",
              "      box-shadow: 0px 1px 2px rgba(60, 64, 67, 0.3), 0px 1px 3px 1px rgba(60, 64, 67, 0.15);\n",
              "      fill: #174EA6;\n",
              "    }\n",
              "\n",
              "    .colab-df-buttons div {\n",
              "      margin-bottom: 4px;\n",
              "    }\n",
              "\n",
              "    [theme=dark] .colab-df-convert {\n",
              "      background-color: #3B4455;\n",
              "      fill: #D2E3FC;\n",
              "    }\n",
              "\n",
              "    [theme=dark] .colab-df-convert:hover {\n",
              "      background-color: #434B5C;\n",
              "      box-shadow: 0px 1px 3px 1px rgba(0, 0, 0, 0.15);\n",
              "      filter: drop-shadow(0px 1px 2px rgba(0, 0, 0, 0.3));\n",
              "      fill: #FFFFFF;\n",
              "    }\n",
              "  </style>\n",
              "\n",
              "    <script>\n",
              "      const buttonEl =\n",
              "        document.querySelector('#df-a4c1c6e2-dd9e-4a1f-831b-297a85302068 button.colab-df-convert');\n",
              "      buttonEl.style.display =\n",
              "        google.colab.kernel.accessAllowed ? 'block' : 'none';\n",
              "\n",
              "      async function convertToInteractive(key) {\n",
              "        const element = document.querySelector('#df-a4c1c6e2-dd9e-4a1f-831b-297a85302068');\n",
              "        const dataTable =\n",
              "          await google.colab.kernel.invokeFunction('convertToInteractive',\n",
              "                                                    [key], {});\n",
              "        if (!dataTable) return;\n",
              "\n",
              "        const docLinkHtml = 'Like what you see? Visit the ' +\n",
              "          '<a target=\"_blank\" href=https://colab.research.google.com/notebooks/data_table.ipynb>data table notebook</a>'\n",
              "          + ' to learn more about interactive tables.';\n",
              "        element.innerHTML = '';\n",
              "        dataTable['output_type'] = 'display_data';\n",
              "        await google.colab.output.renderOutput(dataTable, element);\n",
              "        const docLink = document.createElement('div');\n",
              "        docLink.innerHTML = docLinkHtml;\n",
              "        element.appendChild(docLink);\n",
              "      }\n",
              "    </script>\n",
              "  </div>\n",
              "\n",
              "\n",
              "<div id=\"df-916d6e77-aa65-40db-98c3-3d3c84b2e12e\">\n",
              "  <button class=\"colab-df-quickchart\" onclick=\"quickchart('df-916d6e77-aa65-40db-98c3-3d3c84b2e12e')\"\n",
              "            title=\"Suggest charts\"\n",
              "            style=\"display:none;\">\n",
              "\n",
              "<svg xmlns=\"http://www.w3.org/2000/svg\" height=\"24px\"viewBox=\"0 0 24 24\"\n",
              "     width=\"24px\">\n",
              "    <g>\n",
              "        <path d=\"M19 3H5c-1.1 0-2 .9-2 2v14c0 1.1.9 2 2 2h14c1.1 0 2-.9 2-2V5c0-1.1-.9-2-2-2zM9 17H7v-7h2v7zm4 0h-2V7h2v10zm4 0h-2v-4h2v4z\"/>\n",
              "    </g>\n",
              "</svg>\n",
              "  </button>\n",
              "\n",
              "<style>\n",
              "  .colab-df-quickchart {\n",
              "      --bg-color: #E8F0FE;\n",
              "      --fill-color: #1967D2;\n",
              "      --hover-bg-color: #E2EBFA;\n",
              "      --hover-fill-color: #174EA6;\n",
              "      --disabled-fill-color: #AAA;\n",
              "      --disabled-bg-color: #DDD;\n",
              "  }\n",
              "\n",
              "  [theme=dark] .colab-df-quickchart {\n",
              "      --bg-color: #3B4455;\n",
              "      --fill-color: #D2E3FC;\n",
              "      --hover-bg-color: #434B5C;\n",
              "      --hover-fill-color: #FFFFFF;\n",
              "      --disabled-bg-color: #3B4455;\n",
              "      --disabled-fill-color: #666;\n",
              "  }\n",
              "\n",
              "  .colab-df-quickchart {\n",
              "    background-color: var(--bg-color);\n",
              "    border: none;\n",
              "    border-radius: 50%;\n",
              "    cursor: pointer;\n",
              "    display: none;\n",
              "    fill: var(--fill-color);\n",
              "    height: 32px;\n",
              "    padding: 0;\n",
              "    width: 32px;\n",
              "  }\n",
              "\n",
              "  .colab-df-quickchart:hover {\n",
              "    background-color: var(--hover-bg-color);\n",
              "    box-shadow: 0 1px 2px rgba(60, 64, 67, 0.3), 0 1px 3px 1px rgba(60, 64, 67, 0.15);\n",
              "    fill: var(--button-hover-fill-color);\n",
              "  }\n",
              "\n",
              "  .colab-df-quickchart-complete:disabled,\n",
              "  .colab-df-quickchart-complete:disabled:hover {\n",
              "    background-color: var(--disabled-bg-color);\n",
              "    fill: var(--disabled-fill-color);\n",
              "    box-shadow: none;\n",
              "  }\n",
              "\n",
              "  .colab-df-spinner {\n",
              "    border: 2px solid var(--fill-color);\n",
              "    border-color: transparent;\n",
              "    border-bottom-color: var(--fill-color);\n",
              "    animation:\n",
              "      spin 1s steps(1) infinite;\n",
              "  }\n",
              "\n",
              "  @keyframes spin {\n",
              "    0% {\n",
              "      border-color: transparent;\n",
              "      border-bottom-color: var(--fill-color);\n",
              "      border-left-color: var(--fill-color);\n",
              "    }\n",
              "    20% {\n",
              "      border-color: transparent;\n",
              "      border-left-color: var(--fill-color);\n",
              "      border-top-color: var(--fill-color);\n",
              "    }\n",
              "    30% {\n",
              "      border-color: transparent;\n",
              "      border-left-color: var(--fill-color);\n",
              "      border-top-color: var(--fill-color);\n",
              "      border-right-color: var(--fill-color);\n",
              "    }\n",
              "    40% {\n",
              "      border-color: transparent;\n",
              "      border-right-color: var(--fill-color);\n",
              "      border-top-color: var(--fill-color);\n",
              "    }\n",
              "    60% {\n",
              "      border-color: transparent;\n",
              "      border-right-color: var(--fill-color);\n",
              "    }\n",
              "    80% {\n",
              "      border-color: transparent;\n",
              "      border-right-color: var(--fill-color);\n",
              "      border-bottom-color: var(--fill-color);\n",
              "    }\n",
              "    90% {\n",
              "      border-color: transparent;\n",
              "      border-bottom-color: var(--fill-color);\n",
              "    }\n",
              "  }\n",
              "</style>\n",
              "\n",
              "  <script>\n",
              "    async function quickchart(key) {\n",
              "      const quickchartButtonEl =\n",
              "        document.querySelector('#' + key + ' button');\n",
              "      quickchartButtonEl.disabled = true;  // To prevent multiple clicks.\n",
              "      quickchartButtonEl.classList.add('colab-df-spinner');\n",
              "      try {\n",
              "        const charts = await google.colab.kernel.invokeFunction(\n",
              "            'suggestCharts', [key], {});\n",
              "      } catch (error) {\n",
              "        console.error('Error during call to suggestCharts:', error);\n",
              "      }\n",
              "      quickchartButtonEl.classList.remove('colab-df-spinner');\n",
              "      quickchartButtonEl.classList.add('colab-df-quickchart-complete');\n",
              "    }\n",
              "    (() => {\n",
              "      let quickchartButtonEl =\n",
              "        document.querySelector('#df-916d6e77-aa65-40db-98c3-3d3c84b2e12e button');\n",
              "      quickchartButtonEl.style.display =\n",
              "        google.colab.kernel.accessAllowed ? 'block' : 'none';\n",
              "    })();\n",
              "  </script>\n",
              "</div>\n",
              "\n",
              "  <div id=\"id_5d8db370-2029-401a-89d9-4818260022a9\">\n",
              "    <style>\n",
              "      .colab-df-generate {\n",
              "        background-color: #E8F0FE;\n",
              "        border: none;\n",
              "        border-radius: 50%;\n",
              "        cursor: pointer;\n",
              "        display: none;\n",
              "        fill: #1967D2;\n",
              "        height: 32px;\n",
              "        padding: 0 0 0 0;\n",
              "        width: 32px;\n",
              "      }\n",
              "\n",
              "      .colab-df-generate:hover {\n",
              "        background-color: #E2EBFA;\n",
              "        box-shadow: 0px 1px 2px rgba(60, 64, 67, 0.3), 0px 1px 3px 1px rgba(60, 64, 67, 0.15);\n",
              "        fill: #174EA6;\n",
              "      }\n",
              "\n",
              "      [theme=dark] .colab-df-generate {\n",
              "        background-color: #3B4455;\n",
              "        fill: #D2E3FC;\n",
              "      }\n",
              "\n",
              "      [theme=dark] .colab-df-generate:hover {\n",
              "        background-color: #434B5C;\n",
              "        box-shadow: 0px 1px 3px 1px rgba(0, 0, 0, 0.15);\n",
              "        filter: drop-shadow(0px 1px 2px rgba(0, 0, 0, 0.3));\n",
              "        fill: #FFFFFF;\n",
              "      }\n",
              "    </style>\n",
              "    <button class=\"colab-df-generate\" onclick=\"generateWithVariable('data_dict')\"\n",
              "            title=\"Generate code using this dataframe.\"\n",
              "            style=\"display:none;\">\n",
              "\n",
              "  <svg xmlns=\"http://www.w3.org/2000/svg\" height=\"24px\"viewBox=\"0 0 24 24\"\n",
              "       width=\"24px\">\n",
              "    <path d=\"M7,19H8.4L18.45,9,17,7.55,7,17.6ZM5,21V16.75L18.45,3.32a2,2,0,0,1,2.83,0l1.4,1.43a1.91,1.91,0,0,1,.58,1.4,1.91,1.91,0,0,1-.58,1.4L9.25,21ZM18.45,9,17,7.55Zm-12,3A5.31,5.31,0,0,0,4.9,8.1,5.31,5.31,0,0,0,1,6.5,5.31,5.31,0,0,0,4.9,4.9,5.31,5.31,0,0,0,6.5,1,5.31,5.31,0,0,0,8.1,4.9,5.31,5.31,0,0,0,12,6.5,5.46,5.46,0,0,0,6.5,12Z\"/>\n",
              "  </svg>\n",
              "    </button>\n",
              "    <script>\n",
              "      (() => {\n",
              "      const buttonEl =\n",
              "        document.querySelector('#id_5d8db370-2029-401a-89d9-4818260022a9 button.colab-df-generate');\n",
              "      buttonEl.style.display =\n",
              "        google.colab.kernel.accessAllowed ? 'block' : 'none';\n",
              "\n",
              "      buttonEl.onclick = () => {\n",
              "        google.colab.notebook.generateWithVariable('data_dict');\n",
              "      }\n",
              "      })();\n",
              "    </script>\n",
              "  </div>\n",
              "\n",
              "    </div>\n",
              "  </div>\n"
            ],
            "text/plain": [
              "              Variable Name                               Variable Description\n",
              "0                    number                               incident identifier \n",
              "1            incident state   eight levels controlling the incident managem...\n",
              "2                    active   boolean attribute that shows whether the reco...\n",
              "3        reassignment_count   number of times the incident has the group or...\n",
              "4              reopen_count   number of times the incident resolution was r...\n",
              "5             sys_mod_count       number of incident updates until that moment\n",
              "6                  made_sla   boolean attribute that shows whether the inci...\n",
              "7                 caller_id                    identifier of the user affected\n",
              "8                 opened_by   identifier of the user who reported the incident\n",
              "9                 opened_at                incident user opening date and time\n",
              "10           sys_created_by   identifier of the user who registered the inc...\n",
              "11           sys_created_at             incident system creation date and time\n",
              "12           sys_updated_by   identifier of the user who updated the incide...\n",
              "13           sys_updated_at               incident system update date and time\n",
              "14             contact_type   categorical attribute that shows by what mean...\n",
              "15                 location   identifier of the location of the place affected\n",
              "16                 category    first-level description of the affected service\n",
              "17              subcategory   second-level description of the affected serv...\n",
              "18                u_symptom   description of the user perception about serv...\n",
              "19                  cmdb_ci   (confirmation item) identifier used to report...\n",
              "20                   impact   description of the impact caused by the incid...\n",
              "21                  urgency   description of the urgency informed by the us...\n",
              "22                 priority   calculated by the system based on 'impact' an...\n",
              "23         assignment_group   identifier of the support group in charge of ...\n",
              "24              assigned_to   identifier of the user in charge of the incident\n",
              "25                knowledge   boolean attribute that shows whether a knowle...\n",
              "26  u_priority_confirmation   boolean attribute that shows whether the prio...\n",
              "27                   notify   categorical attribute that shows whether noti...\n",
              "28               problem_id   identifier of the problem associated with the...\n",
              "29                      rfc   (request for change) identifier of the change...\n",
              "30                   vendor   identifier of the vendor in charge of the inc...\n",
              "31                caused_by   identifier of the RFC responsible by the inci...\n",
              "32               close_code       identifier of the resolution of the incident\n",
              "33              resolved_by   identifier of the user who resolved the incident\n",
              "34              resolved_at            incident user resolution date and time \n",
              "35                closed_at                 incident user close date and time "
            ]
          },
          "execution_count": 84,
          "metadata": {},
          "output_type": "execute_result"
        }
      ],
      "source": [
        "data_dict"
      ]
    },
    {
      "cell_type": "markdown",
      "metadata": {
        "id": "ftzKH3Dj5ZPT"
      },
      "source": [
        "## Task 2 - Data Preparation & Feature Engineering for Causal Inference Task\n",
        "Overall exploration was done in assignment 1. Thus, moving directly to requisite preprocessing to create treatment feature"
      ]
    },
    {
      "cell_type": "code",
      "execution_count": 12,
      "metadata": {
        "colab": {
          "base_uri": "https://localhost:8080/",
          "height": 348
        },
        "id": "aGcfcz5p5_Jk",
        "outputId": "7f77cd7f-db24-465f-a818-f3ef22086722"
      },
      "outputs": [
        {
          "name": "stderr",
          "output_type": "stream",
          "text": [
            "Columns (31) have mixed types.Specify dtype option on import or set low_memory=False.\n"
          ]
        },
        {
          "data": {
            "text/html": [
              "\n",
              "  <div id=\"df-2d202bd5-52e3-406c-8fd2-7df29815e4b5\" class=\"colab-df-container\">\n",
              "    <div>\n",
              "<style scoped>\n",
              "    .dataframe tbody tr th:only-of-type {\n",
              "        vertical-align: middle;\n",
              "    }\n",
              "\n",
              "    .dataframe tbody tr th {\n",
              "        vertical-align: top;\n",
              "    }\n",
              "\n",
              "    .dataframe thead th {\n",
              "        text-align: right;\n",
              "    }\n",
              "</style>\n",
              "<table border=\"1\" class=\"dataframe\">\n",
              "  <thead>\n",
              "    <tr style=\"text-align: right;\">\n",
              "      <th></th>\n",
              "      <th>number</th>\n",
              "      <th>incident_state</th>\n",
              "      <th>active</th>\n",
              "      <th>reassignment_count</th>\n",
              "      <th>reopen_count</th>\n",
              "      <th>sys_mod_count</th>\n",
              "      <th>made_sla</th>\n",
              "      <th>caller_id</th>\n",
              "      <th>opened_by</th>\n",
              "      <th>opened_at</th>\n",
              "      <th>...</th>\n",
              "      <th>u_priority_confirmation</th>\n",
              "      <th>notify</th>\n",
              "      <th>problem_id</th>\n",
              "      <th>rfc</th>\n",
              "      <th>vendor</th>\n",
              "      <th>caused_by</th>\n",
              "      <th>closed_code</th>\n",
              "      <th>resolved_by</th>\n",
              "      <th>resolved_at</th>\n",
              "      <th>closed_at</th>\n",
              "    </tr>\n",
              "  </thead>\n",
              "  <tbody>\n",
              "    <tr>\n",
              "      <th>3</th>\n",
              "      <td>INC0000045</td>\n",
              "      <td>Closed</td>\n",
              "      <td>False</td>\n",
              "      <td>0</td>\n",
              "      <td>0</td>\n",
              "      <td>4</td>\n",
              "      <td>True</td>\n",
              "      <td>Caller 2403</td>\n",
              "      <td>Opened by  8</td>\n",
              "      <td>2016-02-29 01:16:00</td>\n",
              "      <td>...</td>\n",
              "      <td>False</td>\n",
              "      <td>Do Not Notify</td>\n",
              "      <td>NaN</td>\n",
              "      <td>NaN</td>\n",
              "      <td>NaN</td>\n",
              "      <td>NaN</td>\n",
              "      <td>code 5</td>\n",
              "      <td>Resolved by 149</td>\n",
              "      <td>2016-02-29 11:29:00</td>\n",
              "      <td>2016-03-05 12:00:00</td>\n",
              "    </tr>\n",
              "    <tr>\n",
              "      <th>12</th>\n",
              "      <td>INC0000047</td>\n",
              "      <td>Closed</td>\n",
              "      <td>False</td>\n",
              "      <td>1</td>\n",
              "      <td>0</td>\n",
              "      <td>8</td>\n",
              "      <td>True</td>\n",
              "      <td>Caller 2403</td>\n",
              "      <td>Opened by  397</td>\n",
              "      <td>2016-02-29 04:40:00</td>\n",
              "      <td>...</td>\n",
              "      <td>False</td>\n",
              "      <td>Do Not Notify</td>\n",
              "      <td>NaN</td>\n",
              "      <td>NaN</td>\n",
              "      <td>NaN</td>\n",
              "      <td>NaN</td>\n",
              "      <td>code 5</td>\n",
              "      <td>Resolved by 81</td>\n",
              "      <td>2016-03-01 09:52:00</td>\n",
              "      <td>2016-03-06 10:00:00</td>\n",
              "    </tr>\n",
              "    <tr>\n",
              "      <th>19</th>\n",
              "      <td>INC0000057</td>\n",
              "      <td>Closed</td>\n",
              "      <td>False</td>\n",
              "      <td>0</td>\n",
              "      <td>0</td>\n",
              "      <td>6</td>\n",
              "      <td>True</td>\n",
              "      <td>Caller 4416</td>\n",
              "      <td>Opened by  8</td>\n",
              "      <td>2016-02-29 06:10:00</td>\n",
              "      <td>...</td>\n",
              "      <td>False</td>\n",
              "      <td>Do Not Notify</td>\n",
              "      <td>Problem ID  2</td>\n",
              "      <td>NaN</td>\n",
              "      <td>NaN</td>\n",
              "      <td>NaN</td>\n",
              "      <td>code 10</td>\n",
              "      <td>Resolved by 5</td>\n",
              "      <td>2016-03-01 02:55:00</td>\n",
              "      <td>2016-03-06 03:00:00</td>\n",
              "    </tr>\n",
              "    <tr>\n",
              "      <th>23</th>\n",
              "      <td>INC0000060</td>\n",
              "      <td>Closed</td>\n",
              "      <td>False</td>\n",
              "      <td>0</td>\n",
              "      <td>0</td>\n",
              "      <td>3</td>\n",
              "      <td>True</td>\n",
              "      <td>Caller 4491</td>\n",
              "      <td>Opened by  180</td>\n",
              "      <td>2016-02-29 06:38:00</td>\n",
              "      <td>...</td>\n",
              "      <td>False</td>\n",
              "      <td>Do Not Notify</td>\n",
              "      <td>NaN</td>\n",
              "      <td>NaN</td>\n",
              "      <td>NaN</td>\n",
              "      <td>NaN</td>\n",
              "      <td>code 3</td>\n",
              "      <td>Resolved by 113</td>\n",
              "      <td>2016-03-02 12:06:00</td>\n",
              "      <td>2016-03-07 13:00:00</td>\n",
              "    </tr>\n",
              "    <tr>\n",
              "      <th>31</th>\n",
              "      <td>INC0000062</td>\n",
              "      <td>Closed</td>\n",
              "      <td>False</td>\n",
              "      <td>1</td>\n",
              "      <td>0</td>\n",
              "      <td>7</td>\n",
              "      <td>False</td>\n",
              "      <td>Caller 3765</td>\n",
              "      <td>Opened by  180</td>\n",
              "      <td>2016-02-29 06:58:00</td>\n",
              "      <td>...</td>\n",
              "      <td>False</td>\n",
              "      <td>Do Not Notify</td>\n",
              "      <td>NaN</td>\n",
              "      <td>NaN</td>\n",
              "      <td>NaN</td>\n",
              "      <td>NaN</td>\n",
              "      <td>code 7</td>\n",
              "      <td>Resolved by 62</td>\n",
              "      <td>2016-02-29 15:51:00</td>\n",
              "      <td>2016-03-05 16:00:00</td>\n",
              "    </tr>\n",
              "  </tbody>\n",
              "</table>\n",
              "<p>5 rows × 36 columns</p>\n",
              "</div>\n",
              "    <div class=\"colab-df-buttons\">\n",
              "\n",
              "  <div class=\"colab-df-container\">\n",
              "    <button class=\"colab-df-convert\" onclick=\"convertToInteractive('df-2d202bd5-52e3-406c-8fd2-7df29815e4b5')\"\n",
              "            title=\"Convert this dataframe to an interactive table.\"\n",
              "            style=\"display:none;\">\n",
              "\n",
              "  <svg xmlns=\"http://www.w3.org/2000/svg\" height=\"24px\" viewBox=\"0 -960 960 960\">\n",
              "    <path d=\"M120-120v-720h720v720H120Zm60-500h600v-160H180v160Zm220 220h160v-160H400v160Zm0 220h160v-160H400v160ZM180-400h160v-160H180v160Zm440 0h160v-160H620v160ZM180-180h160v-160H180v160Zm440 0h160v-160H620v160Z\"/>\n",
              "  </svg>\n",
              "    </button>\n",
              "\n",
              "  <style>\n",
              "    .colab-df-container {\n",
              "      display:flex;\n",
              "      gap: 12px;\n",
              "    }\n",
              "\n",
              "    .colab-df-convert {\n",
              "      background-color: #E8F0FE;\n",
              "      border: none;\n",
              "      border-radius: 50%;\n",
              "      cursor: pointer;\n",
              "      display: none;\n",
              "      fill: #1967D2;\n",
              "      height: 32px;\n",
              "      padding: 0 0 0 0;\n",
              "      width: 32px;\n",
              "    }\n",
              "\n",
              "    .colab-df-convert:hover {\n",
              "      background-color: #E2EBFA;\n",
              "      box-shadow: 0px 1px 2px rgba(60, 64, 67, 0.3), 0px 1px 3px 1px rgba(60, 64, 67, 0.15);\n",
              "      fill: #174EA6;\n",
              "    }\n",
              "\n",
              "    .colab-df-buttons div {\n",
              "      margin-bottom: 4px;\n",
              "    }\n",
              "\n",
              "    [theme=dark] .colab-df-convert {\n",
              "      background-color: #3B4455;\n",
              "      fill: #D2E3FC;\n",
              "    }\n",
              "\n",
              "    [theme=dark] .colab-df-convert:hover {\n",
              "      background-color: #434B5C;\n",
              "      box-shadow: 0px 1px 3px 1px rgba(0, 0, 0, 0.15);\n",
              "      filter: drop-shadow(0px 1px 2px rgba(0, 0, 0, 0.3));\n",
              "      fill: #FFFFFF;\n",
              "    }\n",
              "  </style>\n",
              "\n",
              "    <script>\n",
              "      const buttonEl =\n",
              "        document.querySelector('#df-2d202bd5-52e3-406c-8fd2-7df29815e4b5 button.colab-df-convert');\n",
              "      buttonEl.style.display =\n",
              "        google.colab.kernel.accessAllowed ? 'block' : 'none';\n",
              "\n",
              "      async function convertToInteractive(key) {\n",
              "        const element = document.querySelector('#df-2d202bd5-52e3-406c-8fd2-7df29815e4b5');\n",
              "        const dataTable =\n",
              "          await google.colab.kernel.invokeFunction('convertToInteractive',\n",
              "                                                    [key], {});\n",
              "        if (!dataTable) return;\n",
              "\n",
              "        const docLinkHtml = 'Like what you see? Visit the ' +\n",
              "          '<a target=\"_blank\" href=https://colab.research.google.com/notebooks/data_table.ipynb>data table notebook</a>'\n",
              "          + ' to learn more about interactive tables.';\n",
              "        element.innerHTML = '';\n",
              "        dataTable['output_type'] = 'display_data';\n",
              "        await google.colab.output.renderOutput(dataTable, element);\n",
              "        const docLink = document.createElement('div');\n",
              "        docLink.innerHTML = docLinkHtml;\n",
              "        element.appendChild(docLink);\n",
              "      }\n",
              "    </script>\n",
              "  </div>\n",
              "\n",
              "\n",
              "<div id=\"df-6611bbb4-2b84-41aa-8f65-342bc1e9d6f7\">\n",
              "  <button class=\"colab-df-quickchart\" onclick=\"quickchart('df-6611bbb4-2b84-41aa-8f65-342bc1e9d6f7')\"\n",
              "            title=\"Suggest charts\"\n",
              "            style=\"display:none;\">\n",
              "\n",
              "<svg xmlns=\"http://www.w3.org/2000/svg\" height=\"24px\"viewBox=\"0 0 24 24\"\n",
              "     width=\"24px\">\n",
              "    <g>\n",
              "        <path d=\"M19 3H5c-1.1 0-2 .9-2 2v14c0 1.1.9 2 2 2h14c1.1 0 2-.9 2-2V5c0-1.1-.9-2-2-2zM9 17H7v-7h2v7zm4 0h-2V7h2v10zm4 0h-2v-4h2v4z\"/>\n",
              "    </g>\n",
              "</svg>\n",
              "  </button>\n",
              "\n",
              "<style>\n",
              "  .colab-df-quickchart {\n",
              "      --bg-color: #E8F0FE;\n",
              "      --fill-color: #1967D2;\n",
              "      --hover-bg-color: #E2EBFA;\n",
              "      --hover-fill-color: #174EA6;\n",
              "      --disabled-fill-color: #AAA;\n",
              "      --disabled-bg-color: #DDD;\n",
              "  }\n",
              "\n",
              "  [theme=dark] .colab-df-quickchart {\n",
              "      --bg-color: #3B4455;\n",
              "      --fill-color: #D2E3FC;\n",
              "      --hover-bg-color: #434B5C;\n",
              "      --hover-fill-color: #FFFFFF;\n",
              "      --disabled-bg-color: #3B4455;\n",
              "      --disabled-fill-color: #666;\n",
              "  }\n",
              "\n",
              "  .colab-df-quickchart {\n",
              "    background-color: var(--bg-color);\n",
              "    border: none;\n",
              "    border-radius: 50%;\n",
              "    cursor: pointer;\n",
              "    display: none;\n",
              "    fill: var(--fill-color);\n",
              "    height: 32px;\n",
              "    padding: 0;\n",
              "    width: 32px;\n",
              "  }\n",
              "\n",
              "  .colab-df-quickchart:hover {\n",
              "    background-color: var(--hover-bg-color);\n",
              "    box-shadow: 0 1px 2px rgba(60, 64, 67, 0.3), 0 1px 3px 1px rgba(60, 64, 67, 0.15);\n",
              "    fill: var(--button-hover-fill-color);\n",
              "  }\n",
              "\n",
              "  .colab-df-quickchart-complete:disabled,\n",
              "  .colab-df-quickchart-complete:disabled:hover {\n",
              "    background-color: var(--disabled-bg-color);\n",
              "    fill: var(--disabled-fill-color);\n",
              "    box-shadow: none;\n",
              "  }\n",
              "\n",
              "  .colab-df-spinner {\n",
              "    border: 2px solid var(--fill-color);\n",
              "    border-color: transparent;\n",
              "    border-bottom-color: var(--fill-color);\n",
              "    animation:\n",
              "      spin 1s steps(1) infinite;\n",
              "  }\n",
              "\n",
              "  @keyframes spin {\n",
              "    0% {\n",
              "      border-color: transparent;\n",
              "      border-bottom-color: var(--fill-color);\n",
              "      border-left-color: var(--fill-color);\n",
              "    }\n",
              "    20% {\n",
              "      border-color: transparent;\n",
              "      border-left-color: var(--fill-color);\n",
              "      border-top-color: var(--fill-color);\n",
              "    }\n",
              "    30% {\n",
              "      border-color: transparent;\n",
              "      border-left-color: var(--fill-color);\n",
              "      border-top-color: var(--fill-color);\n",
              "      border-right-color: var(--fill-color);\n",
              "    }\n",
              "    40% {\n",
              "      border-color: transparent;\n",
              "      border-right-color: var(--fill-color);\n",
              "      border-top-color: var(--fill-color);\n",
              "    }\n",
              "    60% {\n",
              "      border-color: transparent;\n",
              "      border-right-color: var(--fill-color);\n",
              "    }\n",
              "    80% {\n",
              "      border-color: transparent;\n",
              "      border-right-color: var(--fill-color);\n",
              "      border-bottom-color: var(--fill-color);\n",
              "    }\n",
              "    90% {\n",
              "      border-color: transparent;\n",
              "      border-bottom-color: var(--fill-color);\n",
              "    }\n",
              "  }\n",
              "</style>\n",
              "\n",
              "  <script>\n",
              "    async function quickchart(key) {\n",
              "      const quickchartButtonEl =\n",
              "        document.querySelector('#' + key + ' button');\n",
              "      quickchartButtonEl.disabled = true;  // To prevent multiple clicks.\n",
              "      quickchartButtonEl.classList.add('colab-df-spinner');\n",
              "      try {\n",
              "        const charts = await google.colab.kernel.invokeFunction(\n",
              "            'suggestCharts', [key], {});\n",
              "      } catch (error) {\n",
              "        console.error('Error during call to suggestCharts:', error);\n",
              "      }\n",
              "      quickchartButtonEl.classList.remove('colab-df-spinner');\n",
              "      quickchartButtonEl.classList.add('colab-df-quickchart-complete');\n",
              "    }\n",
              "    (() => {\n",
              "      let quickchartButtonEl =\n",
              "        document.querySelector('#df-6611bbb4-2b84-41aa-8f65-342bc1e9d6f7 button');\n",
              "      quickchartButtonEl.style.display =\n",
              "        google.colab.kernel.accessAllowed ? 'block' : 'none';\n",
              "    })();\n",
              "  </script>\n",
              "</div>\n",
              "\n",
              "    </div>\n",
              "  </div>\n"
            ],
            "text/plain": [
              "        number incident_state  active  reassignment_count  reopen_count  \\\n",
              "3   INC0000045         Closed   False                   0             0   \n",
              "12  INC0000047         Closed   False                   1             0   \n",
              "19  INC0000057         Closed   False                   0             0   \n",
              "23  INC0000060         Closed   False                   0             0   \n",
              "31  INC0000062         Closed   False                   1             0   \n",
              "\n",
              "    sys_mod_count  made_sla    caller_id       opened_by            opened_at  \\\n",
              "3               4      True  Caller 2403    Opened by  8  2016-02-29 01:16:00   \n",
              "12              8      True  Caller 2403  Opened by  397  2016-02-29 04:40:00   \n",
              "19              6      True  Caller 4416    Opened by  8  2016-02-29 06:10:00   \n",
              "23              3      True  Caller 4491  Opened by  180  2016-02-29 06:38:00   \n",
              "31              7     False  Caller 3765  Opened by  180  2016-02-29 06:58:00   \n",
              "\n",
              "    ... u_priority_confirmation         notify     problem_id  rfc vendor  \\\n",
              "3   ...                   False  Do Not Notify            NaN  NaN    NaN   \n",
              "12  ...                   False  Do Not Notify            NaN  NaN    NaN   \n",
              "19  ...                   False  Do Not Notify  Problem ID  2  NaN    NaN   \n",
              "23  ...                   False  Do Not Notify            NaN  NaN    NaN   \n",
              "31  ...                   False  Do Not Notify            NaN  NaN    NaN   \n",
              "\n",
              "   caused_by closed_code      resolved_by          resolved_at  \\\n",
              "3        NaN      code 5  Resolved by 149  2016-02-29 11:29:00   \n",
              "12       NaN      code 5   Resolved by 81  2016-03-01 09:52:00   \n",
              "19       NaN     code 10    Resolved by 5  2016-03-01 02:55:00   \n",
              "23       NaN      code 3  Resolved by 113  2016-03-02 12:06:00   \n",
              "31       NaN      code 7   Resolved by 62  2016-02-29 15:51:00   \n",
              "\n",
              "              closed_at  \n",
              "3   2016-03-05 12:00:00  \n",
              "12  2016-03-06 10:00:00  \n",
              "19  2016-03-06 03:00:00  \n",
              "23  2016-03-07 13:00:00  \n",
              "31  2016-03-05 16:00:00  \n",
              "\n",
              "[5 rows x 36 columns]"
            ]
          },
          "execution_count": 12,
          "metadata": {},
          "output_type": "execute_result"
        }
      ],
      "source": [
        "file_path = '/content/drive/My Drive/Datasets/incidents.csv'\n",
        "incidents_wip = pd.read_csv(file_path, index_col=0)\n",
        "incidents_wip.head()"
      ]
    },
    {
      "cell_type": "code",
      "execution_count": 25,
      "metadata": {
        "colab": {
          "base_uri": "https://localhost:8080/"
        },
        "id": "3uKSxO9l5IXR",
        "outputId": "723f6718-6937-46ae-89e2-33894ecb3e72"
      },
      "outputs": [
        {
          "data": {
            "text/plain": [
              "number                     object\n",
              "incident_state             object\n",
              "active                       bool\n",
              "reassignment_count          int64\n",
              "reopen_count                int64\n",
              "sys_mod_count               int64\n",
              "made_sla                     bool\n",
              "caller_id                  object\n",
              "opened_by                  object\n",
              "opened_at                  object\n",
              "sys_created_by             object\n",
              "sys_created_at             object\n",
              "sys_updated_by             object\n",
              "sys_updated_at             object\n",
              "contact_type               object\n",
              "location                   object\n",
              "category                   object\n",
              "subcategory                object\n",
              "u_symptom                  object\n",
              "cmdb_ci                    object\n",
              "impact                     object\n",
              "urgency                    object\n",
              "priority                   object\n",
              "assignment_group           object\n",
              "assigned_to                object\n",
              "knowledge                    bool\n",
              "u_priority_confirmation      bool\n",
              "notify                     object\n",
              "problem_id                 object\n",
              "rfc                        object\n",
              "vendor                     object\n",
              "caused_by                  object\n",
              "closed_code                object\n",
              "resolved_by                object\n",
              "resolved_at                object\n",
              "closed_at                  object\n",
              "dtype: object"
            ]
          },
          "execution_count": 25,
          "metadata": {},
          "output_type": "execute_result"
        }
      ],
      "source": [
        "# load initial dataset\n",
        "file_path = '/content/drive/My Drive/Datasets/incident_event_log.csv'\n",
        "incident_log = pd.read_csv(file_path)\n",
        "# check data types in initial dataset\n",
        "incident_log.dtypes"
      ]
    },
    {
      "cell_type": "markdown",
      "metadata": {
        "id": "m0ECuNWjUEvy"
      },
      "source": [
        "## Task 2.1 Cleaning Data"
      ]
    },
    {
      "cell_type": "code",
      "execution_count": 10,
      "metadata": {
        "colab": {
          "base_uri": "https://localhost:8080/"
        },
        "id": "8f7ppnko58dk",
        "outputId": "411f31ef-044c-40ba-af2a-23e798c19aa4"
      },
      "outputs": [
        {
          "data": {
            "text/plain": [
              "number                     0\n",
              "incident_state             0\n",
              "active                     0\n",
              "reassignment_count         0\n",
              "reopen_count               0\n",
              "sys_mod_count              0\n",
              "made_sla                   0\n",
              "caller_id                  0\n",
              "opened_by                  0\n",
              "opened_at                  0\n",
              "sys_created_by             0\n",
              "sys_created_at             0\n",
              "sys_updated_by             0\n",
              "sys_updated_at             0\n",
              "contact_type               0\n",
              "location                   0\n",
              "category                   0\n",
              "subcategory                0\n",
              "u_symptom                  0\n",
              "cmdb_ci                    0\n",
              "impact                     0\n",
              "urgency                    0\n",
              "priority                   0\n",
              "assignment_group           0\n",
              "assigned_to                0\n",
              "knowledge                  0\n",
              "u_priority_confirmation    0\n",
              "notify                     0\n",
              "problem_id                 0\n",
              "rfc                        0\n",
              "vendor                     0\n",
              "caused_by                  0\n",
              "closed_code                0\n",
              "resolved_by                0\n",
              "resolved_at                0\n",
              "closed_at                  0\n",
              "dtype: int64"
            ]
          },
          "execution_count": 10,
          "metadata": {},
          "output_type": "execute_result"
        }
      ],
      "source": [
        "incident_log.replace('?', np.nan, inplace=True)\n",
        "incident_log.isin(['?']).sum(axis=0)"
      ]
    },
    {
      "cell_type": "code",
      "execution_count": 15,
      "metadata": {
        "colab": {
          "base_uri": "https://localhost:8080/"
        },
        "id": "gydu7SQM7L_I",
        "outputId": "9002eb00-0e34-405e-bec6-b29934336940"
      },
      "outputs": [
        {
          "name": "stdout",
          "output_type": "stream",
          "text": [
            "<class 'pandas.core.frame.DataFrame'>\n",
            "RangeIndex: 141712 entries, 0 to 141711\n",
            "Data columns (total 36 columns):\n",
            " #   Column                   Non-Null Count   Dtype         \n",
            "---  ------                   --------------   -----         \n",
            " 0   number                   141712 non-null  object        \n",
            " 1   incident_state           141712 non-null  object        \n",
            " 2   active                   141712 non-null  bool          \n",
            " 3   reassignment_count       141712 non-null  int64         \n",
            " 4   reopen_count             141712 non-null  int64         \n",
            " 5   sys_mod_count            141712 non-null  int64         \n",
            " 6   made_sla                 141712 non-null  bool          \n",
            " 7   caller_id                141683 non-null  object        \n",
            " 8   opened_by                136877 non-null  object        \n",
            " 9   opened_at                141712 non-null  datetime64[ns]\n",
            " 10  sys_created_by           88636 non-null   object        \n",
            " 11  sys_created_at           88636 non-null   datetime64[ns]\n",
            " 12  sys_updated_by           141712 non-null  object        \n",
            " 13  sys_updated_at           141712 non-null  datetime64[ns]\n",
            " 14  contact_type             141712 non-null  object        \n",
            " 15  location                 141636 non-null  object        \n",
            " 16  category                 141634 non-null  object        \n",
            " 17  subcategory              141601 non-null  object        \n",
            " 18  u_symptom                108748 non-null  object        \n",
            " 19  cmdb_ci                  445 non-null     object        \n",
            " 20  impact                   141712 non-null  object        \n",
            " 21  urgency                  141712 non-null  object        \n",
            " 22  priority                 141712 non-null  object        \n",
            " 23  assignment_group         127499 non-null  object        \n",
            " 24  assigned_to              114216 non-null  object        \n",
            " 25  knowledge                141712 non-null  bool          \n",
            " 26  u_priority_confirmation  141712 non-null  bool          \n",
            " 27  notify                   141712 non-null  object        \n",
            " 28  problem_id               2295 non-null    object        \n",
            " 29  rfc                      991 non-null     object        \n",
            " 30  vendor                   244 non-null     object        \n",
            " 31  caused_by                23 non-null      object        \n",
            " 32  closed_code              140998 non-null  object        \n",
            " 33  resolved_by              141486 non-null  object        \n",
            " 34  resolved_at              138571 non-null  datetime64[ns]\n",
            " 35  closed_at                141712 non-null  datetime64[ns]\n",
            "dtypes: bool(4), datetime64[ns](5), int64(3), object(24)\n",
            "memory usage: 35.1+ MB\n"
          ]
        }
      ],
      "source": [
        "date_cols = ['opened_at', 'sys_created_at', 'sys_updated_at', 'resolved_at', 'closed_at']\n",
        "\n",
        "# Convert columns in incident_log to datetime\n",
        "for col in date_cols:\n",
        "    incident_log[col] = pd.to_datetime(incident_log[col], dayfirst=True)\n",
        "\n",
        "# Verify the conversion by checking the data types again\n",
        "incident_log.info()"
      ]
    },
    {
      "cell_type": "markdown",
      "metadata": {
        "id": "70e5w02GUNRi"
      },
      "source": [
        "## Task 2.2 Create New Feature to Support Causal Inference\n",
        "Calculating hours from ticket open to subsequent recorded update in system."
      ]
    },
    {
      "cell_type": "code",
      "execution_count": 16,
      "metadata": {
        "colab": {
          "base_uri": "https://localhost:8080/"
        },
        "id": "QUNRvzcG7lTi",
        "outputId": "c9c9a4f6-c96d-4b51-e918-8034a3426de1"
      },
      "outputs": [
        {
          "name": "stdout",
          "output_type": "stream",
          "text": [
            "       number  reassignment_count  reopen_count  sys_mod_count  made_sla  \\\n",
            "0  INC0000045                   0             0              4      True   \n",
            "1  INC0000047                   1             0              8      True   \n",
            "2  INC0000057                   0             0              6      True   \n",
            "3  INC0000060                   0             0              3      True   \n",
            "4  INC0000062                   1             0              7     False   \n",
            "\n",
            "            opened_at      priority  knowledge  rfc         resolved_at  \\\n",
            "0 2016-02-29 01:16:00  3 - Moderate       True  NaN 2016-02-29 11:29:00   \n",
            "1 2016-02-29 04:40:00  3 - Moderate       True  NaN 2016-03-01 09:52:00   \n",
            "2 2016-02-29 06:10:00  3 - Moderate       True  NaN 2016-03-01 02:55:00   \n",
            "3 2016-02-29 06:38:00  3 - Moderate       True  NaN 2016-03-02 12:06:00   \n",
            "4 2016-02-29 06:58:00      2 - High       True  NaN 2016-02-29 15:51:00   \n",
            "\n",
            "            closed_at second_earliest_update  \n",
            "0 2016-03-05 12:00:00    2016-02-29 08:53:00  \n",
            "1 2016-03-06 10:00:00    2016-02-29 05:30:00  \n",
            "2 2016-03-06 03:00:00    2016-02-29 06:38:00  \n",
            "3 2016-03-07 13:00:00    2016-03-02 08:52:00  \n",
            "4 2016-03-05 16:00:00    2016-02-29 07:29:00  \n"
          ]
        }
      ],
      "source": [
        "# Group by 'number' and then sort within each group by 'sys_updated_at'\n",
        "# Then, get the second entry only if there are at least two updates\n",
        "second_earliest_update = incident_log.sort_values('sys_updated_at').groupby('number').nth(1).reset_index()\n",
        "\n",
        "# Rename the 'sys_updated_at' column to 'second_earliest_update' for clarity\n",
        "second_earliest_update.rename(columns={'sys_updated_at': 'second_earliest_update'}, inplace=True)\n",
        "\n",
        "# Merge the second earliest update information with the 'incidents_wip' DataFrame\n",
        "# 'how=left' ensures that all entries in 'incidents_wip' are kept, even if there's no match in 'second_earliest_update'\n",
        "incidents_wip = incidents_wip.merge(second_earliest_update[['number', 'second_earliest_update']], on='number', how='left')\n",
        "\n",
        "# Now, 'incidents_wip' has a new column 'second_earliest_update' with the second earliest update time where available\n",
        "# Let's check the result\n",
        "print(incidents_wip.head())"
      ]
    },
    {
      "cell_type": "markdown",
      "metadata": {
        "id": "HDNZBjcJ9n5D"
      },
      "source": [
        "Dropping columns which, through Assignmenrt 1 EDA were identified for removal due to: constant / near constant values that carry little information, redundant and/or have a high proportion of missing values, high correlation (0.9 threshold) with columns being kept, too many distinct categories and no domain knowledge to group them as they are masked as numbers (e.g. Location 123)"
      ]
    },
    {
      "cell_type": "markdown",
      "metadata": {
        "id": "Vi4SkBz5Uky0"
      },
      "source": [
        "### Task 2.2.1 Additional Cleaning & Aligning Data Types"
      ]
    },
    {
      "cell_type": "code",
      "execution_count": 13,
      "metadata": {
        "id": "GgbPlV8E9Kc8"
      },
      "outputs": [],
      "source": [
        "to_drop = ['incident_state', 'active', 'contact_type', 'sys_created_by', 'cmdb_ci', 'caused_by', 'closed_code', 'impact', 'urgency', 'vendor',\n",
        " 'u_priority_confirmation', 'u_symptom', 'opened_by','assignment_group', 'assigned_to','problem_id', 'subcategory', 'resolved_by', 'caller_id', 'location', 'category',\n",
        "  'sys_updated_by', 'notify', 'sys_created_at', 'sys_updated_at']\n",
        "\n",
        "# drop columns from incidents_wip\n",
        "incidents_wip.drop(to_drop, axis=1, inplace=True)"
      ]
    },
    {
      "cell_type": "code",
      "execution_count": 17,
      "metadata": {
        "colab": {
          "base_uri": "https://localhost:8080/"
        },
        "id": "uRJjZG3t-_F5",
        "outputId": "636a040f-9b00-4e4b-cc33-aef59ff3f519"
      },
      "outputs": [
        {
          "name": "stdout",
          "output_type": "stream",
          "text": [
            "<class 'pandas.core.frame.DataFrame'>\n",
            "Int64Index: 24918 entries, 0 to 24917\n",
            "Data columns (total 12 columns):\n",
            " #   Column                  Non-Null Count  Dtype         \n",
            "---  ------                  --------------  -----         \n",
            " 0   number                  24918 non-null  object        \n",
            " 1   reassignment_count      24918 non-null  int64         \n",
            " 2   reopen_count            24918 non-null  int64         \n",
            " 3   sys_mod_count           24918 non-null  int64         \n",
            " 4   made_sla                24918 non-null  bool          \n",
            " 5   opened_at               24918 non-null  datetime64[ns]\n",
            " 6   priority                24918 non-null  object        \n",
            " 7   knowledge               24918 non-null  bool          \n",
            " 8   rfc                     176 non-null    object        \n",
            " 9   resolved_at             23362 non-null  datetime64[ns]\n",
            " 10  closed_at               24918 non-null  datetime64[ns]\n",
            " 11  second_earliest_update  24918 non-null  datetime64[ns]\n",
            "dtypes: bool(2), datetime64[ns](4), int64(3), object(3)\n",
            "memory usage: 2.1+ MB\n"
          ]
        }
      ],
      "source": [
        "date_cols = ['opened_at', 'resolved_at', 'closed_at', 'second_earliest_update']\n",
        "\n",
        "# Convert columns in incidents_wip to datetime\n",
        "for col in date_cols:\n",
        "    incidents_wip[col] = pd.to_datetime(incidents_wip[col], dayfirst=True)\n",
        "\n",
        "# Verify the conversion by checking the data types again\n",
        "incidents_wip.info()"
      ]
    },
    {
      "cell_type": "markdown",
      "metadata": {
        "id": "JJDCDBEiU2pM"
      },
      "source": [
        "### Task 2.2.2 Computing target feature, causal feature base, and minimal data imputation\n",
        "\n",
        "Note: Function includes data imputation for null values in resolved_at column. EDA in Assignment 1 revealed that this is nearly always the same time stamp as the closed_at time stamp"
      ]
    },
    {
      "cell_type": "code",
      "execution_count": 20,
      "metadata": {
        "id": "sPpeBvil_4nj"
      },
      "outputs": [],
      "source": [
        "def col_compute(df):\n",
        "    # Create a copy of the dataframe to avoid modifying the original data\n",
        "    df_processed = df.copy()\n",
        "\n",
        "    # Compute 'first_access_hrs' as the difference in hours between 'opened_at' and 'second_earliest_update'\n",
        "    df_processed['first_access_hrs'] = (df_processed['second_earliest_update'] - df_processed['opened_at']).dt.total_seconds() / 3600\n",
        "\n",
        "    # Impute resolved_at with closed_at times where missing as a reasonable proxy\n",
        "    idx = df_processed[df_processed['resolved_at'].isnull()].index\n",
        "    df_processed.loc[idx, 'resolved_at'] = df_processed.loc[idx, 'closed_at']\n",
        "\n",
        "    # Create a new binary column 'rfc_inc' to indicate the presence of 'rfc'\n",
        "    df_processed['rfc_inc'] = df_processed['rfc'].notnull().astype(int)\n",
        "\n",
        "    # Map 'made_sla' and 'knowledge' boolean columns to integers\n",
        "    df_processed['made_sla'] = df_processed['made_sla'].astype(int)\n",
        "    df_processed['knowledge'] = df_processed['knowledge'].astype(int)\n",
        "\n",
        "    # Compute time_to_resolve as the difference between resolved_at and opened_at\n",
        "    # Ensure 'resolved_at' is in datetime format\n",
        "    df_processed['time_to_resolve'] = (df_processed['resolved_at'] - df_processed['opened_at']).dt.total_seconds() / 3600\n",
        "\n",
        "    # Drop columns that are no longer needed at the end of the function\n",
        "    columns_to_drop = ['closed_at', 'rfc', 'resolved_at', 'opened_at', 'second_earliest_update']\n",
        "    df_processed.drop(columns_to_drop, axis=1, inplace=True)\n",
        "\n",
        "    return df_processed"
      ]
    },
    {
      "cell_type": "code",
      "execution_count": 26,
      "metadata": {
        "id": "bvO6DXOKAXiw"
      },
      "outputs": [],
      "source": [
        "incidents_processed = col_compute(incidents_wip)"
      ]
    },
    {
      "cell_type": "code",
      "execution_count": 27,
      "metadata": {
        "colab": {
          "base_uri": "https://localhost:8080/",
          "height": 201
        },
        "id": "1IVqSG0yBHf8",
        "outputId": "b5561331-1412-4071-ee56-34333b8cf64d"
      },
      "outputs": [
        {
          "data": {
            "text/html": [
              "\n",
              "  <div id=\"df-020da5f8-2c07-44b7-9a7e-1e13b72c734c\" class=\"colab-df-container\">\n",
              "    <div>\n",
              "<style scoped>\n",
              "    .dataframe tbody tr th:only-of-type {\n",
              "        vertical-align: middle;\n",
              "    }\n",
              "\n",
              "    .dataframe tbody tr th {\n",
              "        vertical-align: top;\n",
              "    }\n",
              "\n",
              "    .dataframe thead th {\n",
              "        text-align: right;\n",
              "    }\n",
              "</style>\n",
              "<table border=\"1\" class=\"dataframe\">\n",
              "  <thead>\n",
              "    <tr style=\"text-align: right;\">\n",
              "      <th></th>\n",
              "      <th>number</th>\n",
              "      <th>reassignment_count</th>\n",
              "      <th>reopen_count</th>\n",
              "      <th>sys_mod_count</th>\n",
              "      <th>made_sla</th>\n",
              "      <th>priority</th>\n",
              "      <th>knowledge</th>\n",
              "      <th>first_access_hrs</th>\n",
              "      <th>rfc_inc</th>\n",
              "      <th>time_to_resolve</th>\n",
              "    </tr>\n",
              "  </thead>\n",
              "  <tbody>\n",
              "    <tr>\n",
              "      <th>0</th>\n",
              "      <td>INC0000045</td>\n",
              "      <td>0</td>\n",
              "      <td>0</td>\n",
              "      <td>4</td>\n",
              "      <td>1</td>\n",
              "      <td>3 - Moderate</td>\n",
              "      <td>1</td>\n",
              "      <td>7.6</td>\n",
              "      <td>0</td>\n",
              "      <td>10.2</td>\n",
              "    </tr>\n",
              "    <tr>\n",
              "      <th>1</th>\n",
              "      <td>INC0000047</td>\n",
              "      <td>1</td>\n",
              "      <td>0</td>\n",
              "      <td>8</td>\n",
              "      <td>1</td>\n",
              "      <td>3 - Moderate</td>\n",
              "      <td>1</td>\n",
              "      <td>0.8</td>\n",
              "      <td>0</td>\n",
              "      <td>29.2</td>\n",
              "    </tr>\n",
              "    <tr>\n",
              "      <th>2</th>\n",
              "      <td>INC0000057</td>\n",
              "      <td>0</td>\n",
              "      <td>0</td>\n",
              "      <td>6</td>\n",
              "      <td>1</td>\n",
              "      <td>3 - Moderate</td>\n",
              "      <td>1</td>\n",
              "      <td>0.5</td>\n",
              "      <td>0</td>\n",
              "      <td>20.8</td>\n",
              "    </tr>\n",
              "    <tr>\n",
              "      <th>3</th>\n",
              "      <td>INC0000060</td>\n",
              "      <td>0</td>\n",
              "      <td>0</td>\n",
              "      <td>3</td>\n",
              "      <td>1</td>\n",
              "      <td>3 - Moderate</td>\n",
              "      <td>1</td>\n",
              "      <td>50.2</td>\n",
              "      <td>0</td>\n",
              "      <td>53.5</td>\n",
              "    </tr>\n",
              "    <tr>\n",
              "      <th>4</th>\n",
              "      <td>INC0000062</td>\n",
              "      <td>1</td>\n",
              "      <td>0</td>\n",
              "      <td>7</td>\n",
              "      <td>0</td>\n",
              "      <td>2 - High</td>\n",
              "      <td>1</td>\n",
              "      <td>0.5</td>\n",
              "      <td>0</td>\n",
              "      <td>8.9</td>\n",
              "    </tr>\n",
              "  </tbody>\n",
              "</table>\n",
              "</div>\n",
              "    <div class=\"colab-df-buttons\">\n",
              "\n",
              "  <div class=\"colab-df-container\">\n",
              "    <button class=\"colab-df-convert\" onclick=\"convertToInteractive('df-020da5f8-2c07-44b7-9a7e-1e13b72c734c')\"\n",
              "            title=\"Convert this dataframe to an interactive table.\"\n",
              "            style=\"display:none;\">\n",
              "\n",
              "  <svg xmlns=\"http://www.w3.org/2000/svg\" height=\"24px\" viewBox=\"0 -960 960 960\">\n",
              "    <path d=\"M120-120v-720h720v720H120Zm60-500h600v-160H180v160Zm220 220h160v-160H400v160Zm0 220h160v-160H400v160ZM180-400h160v-160H180v160Zm440 0h160v-160H620v160ZM180-180h160v-160H180v160Zm440 0h160v-160H620v160Z\"/>\n",
              "  </svg>\n",
              "    </button>\n",
              "\n",
              "  <style>\n",
              "    .colab-df-container {\n",
              "      display:flex;\n",
              "      gap: 12px;\n",
              "    }\n",
              "\n",
              "    .colab-df-convert {\n",
              "      background-color: #E8F0FE;\n",
              "      border: none;\n",
              "      border-radius: 50%;\n",
              "      cursor: pointer;\n",
              "      display: none;\n",
              "      fill: #1967D2;\n",
              "      height: 32px;\n",
              "      padding: 0 0 0 0;\n",
              "      width: 32px;\n",
              "    }\n",
              "\n",
              "    .colab-df-convert:hover {\n",
              "      background-color: #E2EBFA;\n",
              "      box-shadow: 0px 1px 2px rgba(60, 64, 67, 0.3), 0px 1px 3px 1px rgba(60, 64, 67, 0.15);\n",
              "      fill: #174EA6;\n",
              "    }\n",
              "\n",
              "    .colab-df-buttons div {\n",
              "      margin-bottom: 4px;\n",
              "    }\n",
              "\n",
              "    [theme=dark] .colab-df-convert {\n",
              "      background-color: #3B4455;\n",
              "      fill: #D2E3FC;\n",
              "    }\n",
              "\n",
              "    [theme=dark] .colab-df-convert:hover {\n",
              "      background-color: #434B5C;\n",
              "      box-shadow: 0px 1px 3px 1px rgba(0, 0, 0, 0.15);\n",
              "      filter: drop-shadow(0px 1px 2px rgba(0, 0, 0, 0.3));\n",
              "      fill: #FFFFFF;\n",
              "    }\n",
              "  </style>\n",
              "\n",
              "    <script>\n",
              "      const buttonEl =\n",
              "        document.querySelector('#df-020da5f8-2c07-44b7-9a7e-1e13b72c734c button.colab-df-convert');\n",
              "      buttonEl.style.display =\n",
              "        google.colab.kernel.accessAllowed ? 'block' : 'none';\n",
              "\n",
              "      async function convertToInteractive(key) {\n",
              "        const element = document.querySelector('#df-020da5f8-2c07-44b7-9a7e-1e13b72c734c');\n",
              "        const dataTable =\n",
              "          await google.colab.kernel.invokeFunction('convertToInteractive',\n",
              "                                                    [key], {});\n",
              "        if (!dataTable) return;\n",
              "\n",
              "        const docLinkHtml = 'Like what you see? Visit the ' +\n",
              "          '<a target=\"_blank\" href=https://colab.research.google.com/notebooks/data_table.ipynb>data table notebook</a>'\n",
              "          + ' to learn more about interactive tables.';\n",
              "        element.innerHTML = '';\n",
              "        dataTable['output_type'] = 'display_data';\n",
              "        await google.colab.output.renderOutput(dataTable, element);\n",
              "        const docLink = document.createElement('div');\n",
              "        docLink.innerHTML = docLinkHtml;\n",
              "        element.appendChild(docLink);\n",
              "      }\n",
              "    </script>\n",
              "  </div>\n",
              "\n",
              "\n",
              "<div id=\"df-970305e8-d012-4c9a-a24f-69c03c5c2e80\">\n",
              "  <button class=\"colab-df-quickchart\" onclick=\"quickchart('df-970305e8-d012-4c9a-a24f-69c03c5c2e80')\"\n",
              "            title=\"Suggest charts\"\n",
              "            style=\"display:none;\">\n",
              "\n",
              "<svg xmlns=\"http://www.w3.org/2000/svg\" height=\"24px\"viewBox=\"0 0 24 24\"\n",
              "     width=\"24px\">\n",
              "    <g>\n",
              "        <path d=\"M19 3H5c-1.1 0-2 .9-2 2v14c0 1.1.9 2 2 2h14c1.1 0 2-.9 2-2V5c0-1.1-.9-2-2-2zM9 17H7v-7h2v7zm4 0h-2V7h2v10zm4 0h-2v-4h2v4z\"/>\n",
              "    </g>\n",
              "</svg>\n",
              "  </button>\n",
              "\n",
              "<style>\n",
              "  .colab-df-quickchart {\n",
              "      --bg-color: #E8F0FE;\n",
              "      --fill-color: #1967D2;\n",
              "      --hover-bg-color: #E2EBFA;\n",
              "      --hover-fill-color: #174EA6;\n",
              "      --disabled-fill-color: #AAA;\n",
              "      --disabled-bg-color: #DDD;\n",
              "  }\n",
              "\n",
              "  [theme=dark] .colab-df-quickchart {\n",
              "      --bg-color: #3B4455;\n",
              "      --fill-color: #D2E3FC;\n",
              "      --hover-bg-color: #434B5C;\n",
              "      --hover-fill-color: #FFFFFF;\n",
              "      --disabled-bg-color: #3B4455;\n",
              "      --disabled-fill-color: #666;\n",
              "  }\n",
              "\n",
              "  .colab-df-quickchart {\n",
              "    background-color: var(--bg-color);\n",
              "    border: none;\n",
              "    border-radius: 50%;\n",
              "    cursor: pointer;\n",
              "    display: none;\n",
              "    fill: var(--fill-color);\n",
              "    height: 32px;\n",
              "    padding: 0;\n",
              "    width: 32px;\n",
              "  }\n",
              "\n",
              "  .colab-df-quickchart:hover {\n",
              "    background-color: var(--hover-bg-color);\n",
              "    box-shadow: 0 1px 2px rgba(60, 64, 67, 0.3), 0 1px 3px 1px rgba(60, 64, 67, 0.15);\n",
              "    fill: var(--button-hover-fill-color);\n",
              "  }\n",
              "\n",
              "  .colab-df-quickchart-complete:disabled,\n",
              "  .colab-df-quickchart-complete:disabled:hover {\n",
              "    background-color: var(--disabled-bg-color);\n",
              "    fill: var(--disabled-fill-color);\n",
              "    box-shadow: none;\n",
              "  }\n",
              "\n",
              "  .colab-df-spinner {\n",
              "    border: 2px solid var(--fill-color);\n",
              "    border-color: transparent;\n",
              "    border-bottom-color: var(--fill-color);\n",
              "    animation:\n",
              "      spin 1s steps(1) infinite;\n",
              "  }\n",
              "\n",
              "  @keyframes spin {\n",
              "    0% {\n",
              "      border-color: transparent;\n",
              "      border-bottom-color: var(--fill-color);\n",
              "      border-left-color: var(--fill-color);\n",
              "    }\n",
              "    20% {\n",
              "      border-color: transparent;\n",
              "      border-left-color: var(--fill-color);\n",
              "      border-top-color: var(--fill-color);\n",
              "    }\n",
              "    30% {\n",
              "      border-color: transparent;\n",
              "      border-left-color: var(--fill-color);\n",
              "      border-top-color: var(--fill-color);\n",
              "      border-right-color: var(--fill-color);\n",
              "    }\n",
              "    40% {\n",
              "      border-color: transparent;\n",
              "      border-right-color: var(--fill-color);\n",
              "      border-top-color: var(--fill-color);\n",
              "    }\n",
              "    60% {\n",
              "      border-color: transparent;\n",
              "      border-right-color: var(--fill-color);\n",
              "    }\n",
              "    80% {\n",
              "      border-color: transparent;\n",
              "      border-right-color: var(--fill-color);\n",
              "      border-bottom-color: var(--fill-color);\n",
              "    }\n",
              "    90% {\n",
              "      border-color: transparent;\n",
              "      border-bottom-color: var(--fill-color);\n",
              "    }\n",
              "  }\n",
              "</style>\n",
              "\n",
              "  <script>\n",
              "    async function quickchart(key) {\n",
              "      const quickchartButtonEl =\n",
              "        document.querySelector('#' + key + ' button');\n",
              "      quickchartButtonEl.disabled = true;  // To prevent multiple clicks.\n",
              "      quickchartButtonEl.classList.add('colab-df-spinner');\n",
              "      try {\n",
              "        const charts = await google.colab.kernel.invokeFunction(\n",
              "            'suggestCharts', [key], {});\n",
              "      } catch (error) {\n",
              "        console.error('Error during call to suggestCharts:', error);\n",
              "      }\n",
              "      quickchartButtonEl.classList.remove('colab-df-spinner');\n",
              "      quickchartButtonEl.classList.add('colab-df-quickchart-complete');\n",
              "    }\n",
              "    (() => {\n",
              "      let quickchartButtonEl =\n",
              "        document.querySelector('#df-970305e8-d012-4c9a-a24f-69c03c5c2e80 button');\n",
              "      quickchartButtonEl.style.display =\n",
              "        google.colab.kernel.accessAllowed ? 'block' : 'none';\n",
              "    })();\n",
              "  </script>\n",
              "</div>\n",
              "\n",
              "    </div>\n",
              "  </div>\n"
            ],
            "text/plain": [
              "       number  reassignment_count  reopen_count  sys_mod_count  made_sla  \\\n",
              "0  INC0000045                   0             0              4         1   \n",
              "1  INC0000047                   1             0              8         1   \n",
              "2  INC0000057                   0             0              6         1   \n",
              "3  INC0000060                   0             0              3         1   \n",
              "4  INC0000062                   1             0              7         0   \n",
              "\n",
              "       priority  knowledge  first_access_hrs  rfc_inc  time_to_resolve  \n",
              "0  3 - Moderate          1               7.6        0             10.2  \n",
              "1  3 - Moderate          1               0.8        0             29.2  \n",
              "2  3 - Moderate          1               0.5        0             20.8  \n",
              "3  3 - Moderate          1              50.2        0             53.5  \n",
              "4      2 - High          1               0.5        0              8.9  "
            ]
          },
          "execution_count": 27,
          "metadata": {},
          "output_type": "execute_result"
        }
      ],
      "source": [
        "# round time_to_resolve and first_access_hrs to 1 decimal place\n",
        "incidents_processed['time_to_resolve'] = incidents_processed['time_to_resolve'].round(1)\n",
        "incidents_processed['first_access_hrs'] = incidents_processed['first_access_hrs'].round(1)\n",
        "incidents_processed.head()"
      ]
    },
    {
      "cell_type": "markdown",
      "metadata": {
        "id": "mfKLYdjAVMvz"
      },
      "source": [
        "## Task 2.3 Categorical Encoding"
      ]
    },
    {
      "cell_type": "markdown",
      "metadata": {
        "id": "dbuz-wx6BZdp"
      },
      "source": [
        "Encoding of categorical priority column"
      ]
    },
    {
      "cell_type": "code",
      "execution_count": 28,
      "metadata": {
        "colab": {
          "base_uri": "https://localhost:8080/"
        },
        "id": "5kjdaLKMBXTZ",
        "outputId": "85187946-6330-481f-ef7a-fe1b3a5f656f"
      },
      "outputs": [
        {
          "name": "stdout",
          "output_type": "stream",
          "text": [
            "0    1.0\n",
            "1    1.0\n",
            "2    1.0\n",
            "3    1.0\n",
            "4    2.0\n",
            "Name: priority, dtype: float64\n"
          ]
        }
      ],
      "source": [
        "# Define the categories\n",
        "p_cats = ['4 - Low','3 - Moderate','2 - High', '1 - Critical' ]\n",
        "\n",
        "# Initialize the encoder with the specified categories\n",
        "oencoder = OrdinalEncoder(categories=[p_cats])\n",
        "\n",
        "# Fit and transform the 'priority' column, then assign the result back to 'priority'\n",
        "incidents_processed['priority'] = oencoder.fit_transform(incidents_processed[['priority']])\n",
        "\n",
        "print(incidents_processed['priority'].head())"
      ]
    },
    {
      "cell_type": "markdown",
      "metadata": {
        "id": "6IMGrLPpVV26"
      },
      "source": [
        "## Task 2.4 Outlier Detection"
      ]
    },
    {
      "cell_type": "code",
      "execution_count": 29,
      "metadata": {
        "id": "rh6i7-MRVn6R"
      },
      "outputs": [],
      "source": [
        "from sklearn.ensemble import IsolationForest"
      ]
    },
    {
      "cell_type": "code",
      "execution_count": 30,
      "metadata": {
        "colab": {
          "base_uri": "https://localhost:8080/"
        },
        "id": "jUDtCxlCVYSi",
        "outputId": "80b77ab2-9ef3-4d6a-b64c-5e1fda2bcafb"
      },
      "outputs": [
        {
          "name": "stderr",
          "output_type": "stream",
          "text": [
            "X does not have valid feature names, but IsolationForest was fitted with feature names\n"
          ]
        },
        {
          "name": "stdout",
          "output_type": "stream",
          "text": [
            " 1    24668\n",
            "-1      250\n",
            "dtype: int64\n"
          ]
        }
      ],
      "source": [
        "# Create an instance of Isolation Forest\n",
        "iforest = IsolationForest(n_estimators=100, contamination=0.01, random_state=4)\n",
        "\n",
        "# Fit the model and obtain predictions\n",
        "iforest.fit(incidents_processed[['time_to_resolve']])\n",
        "outliers = iforest.predict(incidents_processed[['time_to_resolve']])\n",
        "outliers = pd.Series(outliers, index=incidents_processed.index)\n",
        "\n",
        "# Check the number of outliers\n",
        "print(outliers.value_counts())"
      ]
    },
    {
      "cell_type": "code",
      "execution_count": 31,
      "metadata": {
        "id": "sL6QZ0sLVzTn"
      },
      "outputs": [],
      "source": [
        "# Removing outliers in target\n",
        "incidents_proc_1 = incidents_processed[outliers == 1]"
      ]
    },
    {
      "cell_type": "code",
      "execution_count": 32,
      "metadata": {
        "colab": {
          "base_uri": "https://localhost:8080/"
        },
        "id": "wkOcXaVRV6va",
        "outputId": "7273f1d7-a77b-4f02-8546-428ca92f6291"
      },
      "outputs": [
        {
          "name": "stdout",
          "output_type": "stream",
          "text": [
            " 1    21814\n",
            "-1     2854\n",
            "dtype: int64\n"
          ]
        }
      ],
      "source": [
        "# use isolation forest to check for outliers in first_access_hrs\n",
        "# Fit the model and obtain predictions\n",
        "iforest = IsolationForest()\n",
        "iforest.fit(incidents_proc_1[['first_access_hrs']])\n",
        "\n",
        "# Obtain predictions\n",
        "outliers = iforest.predict(incidents_proc_1[['first_access_hrs']])\n",
        "outliers = pd.Series(outliers, index=incidents_proc_1.index)\n",
        "\n",
        "# Check the number of outliers\n",
        "print(outliers.value_counts())"
      ]
    },
    {
      "cell_type": "code",
      "execution_count": 33,
      "metadata": {
        "id": "WJx59PLIWApF"
      },
      "outputs": [],
      "source": [
        "# Removing access hrs outliers\n",
        "incidents_proc_2 = incidents_proc_1[outliers == 1]"
      ]
    },
    {
      "cell_type": "markdown",
      "metadata": {
        "id": "NzuRqPhZXVBH"
      },
      "source": [
        "## Task 2.5 Additional EDA with New Feature"
      ]
    },
    {
      "cell_type": "code",
      "execution_count": 34,
      "metadata": {
        "colab": {
          "base_uri": "https://localhost:8080/"
        },
        "id": "nkdnkvruWNPS",
        "outputId": "8f9ba0c1-5e1d-4198-e4e8-429a5ff21584"
      },
      "outputs": [
        {
          "name": "stdout",
          "output_type": "stream",
          "text": [
            "File saved to /content/drive/My Drive/Datasets/incidents_proc_2.csv\n"
          ]
        }
      ],
      "source": [
        "# Writing file to csv for local use of ydataprofiling for additional EDA\n",
        "\n",
        "file_path = '/content/drive/My Drive/Datasets/incidents_proc_2.csv'\n",
        "\n",
        "incidents_proc_2.to_csv(file_path, index=True) \n",
        "\n",
        "print(f'File saved to {file_path}')\n",
        "\n",
        "# html file Incident_Profiling_Causal_2 "
      ]
    },
    {
      "cell_type": "markdown",
      "metadata": {
        "id": "9QIcsSUEZl8Q"
      },
      "source": [
        "## Task 2.6 Engineering Binary Treatment Feature\n",
        "From EDA on the feature representing hours to first ticket access, the minimum is 0, maximum is 121, and mean is aprox 10 hrs (9.8).\n",
        "CausalML will be leveraged to assess the ATE of over 12 hours elapsing before first ticket access."
      ]
    },
    {
      "cell_type": "code",
      "execution_count": 35,
      "metadata": {
        "colab": {
          "base_uri": "https://localhost:8080/",
          "height": 283
        },
        "id": "TjtEQRvdXAVC",
        "outputId": "86319938-ea39-4f58-e04c-edad817e8c8f"
      },
      "outputs": [
        {
          "name": "stderr",
          "output_type": "stream",
          "text": [
            "\n",
            "A value is trying to be set on a copy of a slice from a DataFrame.\n",
            "Try using .loc[row_indexer,col_indexer] = value instead\n",
            "\n",
            "See the caveats in the documentation: https://pandas.pydata.org/pandas-docs/stable/user_guide/indexing.html#returning-a-view-versus-a-copy\n"
          ]
        },
        {
          "data": {
            "text/html": [
              "\n",
              "  <div id=\"df-dc049bab-d06b-4e91-bb4d-f929cf5bfe02\" class=\"colab-df-container\">\n",
              "    <div>\n",
              "<style scoped>\n",
              "    .dataframe tbody tr th:only-of-type {\n",
              "        vertical-align: middle;\n",
              "    }\n",
              "\n",
              "    .dataframe tbody tr th {\n",
              "        vertical-align: top;\n",
              "    }\n",
              "\n",
              "    .dataframe thead th {\n",
              "        text-align: right;\n",
              "    }\n",
              "</style>\n",
              "<table border=\"1\" class=\"dataframe\">\n",
              "  <thead>\n",
              "    <tr style=\"text-align: right;\">\n",
              "      <th></th>\n",
              "      <th>number</th>\n",
              "      <th>reassignment_count</th>\n",
              "      <th>reopen_count</th>\n",
              "      <th>sys_mod_count</th>\n",
              "      <th>made_sla</th>\n",
              "      <th>priority</th>\n",
              "      <th>knowledge</th>\n",
              "      <th>first_access_hrs</th>\n",
              "      <th>rfc_inc</th>\n",
              "      <th>time_to_resolve</th>\n",
              "      <th>over_12</th>\n",
              "    </tr>\n",
              "  </thead>\n",
              "  <tbody>\n",
              "    <tr>\n",
              "      <th>0</th>\n",
              "      <td>INC0000045</td>\n",
              "      <td>0</td>\n",
              "      <td>0</td>\n",
              "      <td>4</td>\n",
              "      <td>1</td>\n",
              "      <td>1.0</td>\n",
              "      <td>1</td>\n",
              "      <td>7.6</td>\n",
              "      <td>0</td>\n",
              "      <td>10.2</td>\n",
              "      <td>0</td>\n",
              "    </tr>\n",
              "    <tr>\n",
              "      <th>1</th>\n",
              "      <td>INC0000047</td>\n",
              "      <td>1</td>\n",
              "      <td>0</td>\n",
              "      <td>8</td>\n",
              "      <td>1</td>\n",
              "      <td>1.0</td>\n",
              "      <td>1</td>\n",
              "      <td>0.8</td>\n",
              "      <td>0</td>\n",
              "      <td>29.2</td>\n",
              "      <td>0</td>\n",
              "    </tr>\n",
              "    <tr>\n",
              "      <th>2</th>\n",
              "      <td>INC0000057</td>\n",
              "      <td>0</td>\n",
              "      <td>0</td>\n",
              "      <td>6</td>\n",
              "      <td>1</td>\n",
              "      <td>1.0</td>\n",
              "      <td>1</td>\n",
              "      <td>0.5</td>\n",
              "      <td>0</td>\n",
              "      <td>20.8</td>\n",
              "      <td>0</td>\n",
              "    </tr>\n",
              "    <tr>\n",
              "      <th>4</th>\n",
              "      <td>INC0000062</td>\n",
              "      <td>1</td>\n",
              "      <td>0</td>\n",
              "      <td>7</td>\n",
              "      <td>0</td>\n",
              "      <td>2.0</td>\n",
              "      <td>1</td>\n",
              "      <td>0.5</td>\n",
              "      <td>0</td>\n",
              "      <td>8.9</td>\n",
              "      <td>0</td>\n",
              "    </tr>\n",
              "    <tr>\n",
              "      <th>5</th>\n",
              "      <td>INC0000063</td>\n",
              "      <td>1</td>\n",
              "      <td>0</td>\n",
              "      <td>7</td>\n",
              "      <td>1</td>\n",
              "      <td>1.0</td>\n",
              "      <td>1</td>\n",
              "      <td>0.2</td>\n",
              "      <td>0</td>\n",
              "      <td>8.9</td>\n",
              "      <td>0</td>\n",
              "    </tr>\n",
              "  </tbody>\n",
              "</table>\n",
              "</div>\n",
              "    <div class=\"colab-df-buttons\">\n",
              "\n",
              "  <div class=\"colab-df-container\">\n",
              "    <button class=\"colab-df-convert\" onclick=\"convertToInteractive('df-dc049bab-d06b-4e91-bb4d-f929cf5bfe02')\"\n",
              "            title=\"Convert this dataframe to an interactive table.\"\n",
              "            style=\"display:none;\">\n",
              "\n",
              "  <svg xmlns=\"http://www.w3.org/2000/svg\" height=\"24px\" viewBox=\"0 -960 960 960\">\n",
              "    <path d=\"M120-120v-720h720v720H120Zm60-500h600v-160H180v160Zm220 220h160v-160H400v160Zm0 220h160v-160H400v160ZM180-400h160v-160H180v160Zm440 0h160v-160H620v160ZM180-180h160v-160H180v160Zm440 0h160v-160H620v160Z\"/>\n",
              "  </svg>\n",
              "    </button>\n",
              "\n",
              "  <style>\n",
              "    .colab-df-container {\n",
              "      display:flex;\n",
              "      gap: 12px;\n",
              "    }\n",
              "\n",
              "    .colab-df-convert {\n",
              "      background-color: #E8F0FE;\n",
              "      border: none;\n",
              "      border-radius: 50%;\n",
              "      cursor: pointer;\n",
              "      display: none;\n",
              "      fill: #1967D2;\n",
              "      height: 32px;\n",
              "      padding: 0 0 0 0;\n",
              "      width: 32px;\n",
              "    }\n",
              "\n",
              "    .colab-df-convert:hover {\n",
              "      background-color: #E2EBFA;\n",
              "      box-shadow: 0px 1px 2px rgba(60, 64, 67, 0.3), 0px 1px 3px 1px rgba(60, 64, 67, 0.15);\n",
              "      fill: #174EA6;\n",
              "    }\n",
              "\n",
              "    .colab-df-buttons div {\n",
              "      margin-bottom: 4px;\n",
              "    }\n",
              "\n",
              "    [theme=dark] .colab-df-convert {\n",
              "      background-color: #3B4455;\n",
              "      fill: #D2E3FC;\n",
              "    }\n",
              "\n",
              "    [theme=dark] .colab-df-convert:hover {\n",
              "      background-color: #434B5C;\n",
              "      box-shadow: 0px 1px 3px 1px rgba(0, 0, 0, 0.15);\n",
              "      filter: drop-shadow(0px 1px 2px rgba(0, 0, 0, 0.3));\n",
              "      fill: #FFFFFF;\n",
              "    }\n",
              "  </style>\n",
              "\n",
              "    <script>\n",
              "      const buttonEl =\n",
              "        document.querySelector('#df-dc049bab-d06b-4e91-bb4d-f929cf5bfe02 button.colab-df-convert');\n",
              "      buttonEl.style.display =\n",
              "        google.colab.kernel.accessAllowed ? 'block' : 'none';\n",
              "\n",
              "      async function convertToInteractive(key) {\n",
              "        const element = document.querySelector('#df-dc049bab-d06b-4e91-bb4d-f929cf5bfe02');\n",
              "        const dataTable =\n",
              "          await google.colab.kernel.invokeFunction('convertToInteractive',\n",
              "                                                    [key], {});\n",
              "        if (!dataTable) return;\n",
              "\n",
              "        const docLinkHtml = 'Like what you see? Visit the ' +\n",
              "          '<a target=\"_blank\" href=https://colab.research.google.com/notebooks/data_table.ipynb>data table notebook</a>'\n",
              "          + ' to learn more about interactive tables.';\n",
              "        element.innerHTML = '';\n",
              "        dataTable['output_type'] = 'display_data';\n",
              "        await google.colab.output.renderOutput(dataTable, element);\n",
              "        const docLink = document.createElement('div');\n",
              "        docLink.innerHTML = docLinkHtml;\n",
              "        element.appendChild(docLink);\n",
              "      }\n",
              "    </script>\n",
              "  </div>\n",
              "\n",
              "\n",
              "<div id=\"df-49f9407b-95f3-4106-a87d-fe3b1dd33200\">\n",
              "  <button class=\"colab-df-quickchart\" onclick=\"quickchart('df-49f9407b-95f3-4106-a87d-fe3b1dd33200')\"\n",
              "            title=\"Suggest charts\"\n",
              "            style=\"display:none;\">\n",
              "\n",
              "<svg xmlns=\"http://www.w3.org/2000/svg\" height=\"24px\"viewBox=\"0 0 24 24\"\n",
              "     width=\"24px\">\n",
              "    <g>\n",
              "        <path d=\"M19 3H5c-1.1 0-2 .9-2 2v14c0 1.1.9 2 2 2h14c1.1 0 2-.9 2-2V5c0-1.1-.9-2-2-2zM9 17H7v-7h2v7zm4 0h-2V7h2v10zm4 0h-2v-4h2v4z\"/>\n",
              "    </g>\n",
              "</svg>\n",
              "  </button>\n",
              "\n",
              "<style>\n",
              "  .colab-df-quickchart {\n",
              "      --bg-color: #E8F0FE;\n",
              "      --fill-color: #1967D2;\n",
              "      --hover-bg-color: #E2EBFA;\n",
              "      --hover-fill-color: #174EA6;\n",
              "      --disabled-fill-color: #AAA;\n",
              "      --disabled-bg-color: #DDD;\n",
              "  }\n",
              "\n",
              "  [theme=dark] .colab-df-quickchart {\n",
              "      --bg-color: #3B4455;\n",
              "      --fill-color: #D2E3FC;\n",
              "      --hover-bg-color: #434B5C;\n",
              "      --hover-fill-color: #FFFFFF;\n",
              "      --disabled-bg-color: #3B4455;\n",
              "      --disabled-fill-color: #666;\n",
              "  }\n",
              "\n",
              "  .colab-df-quickchart {\n",
              "    background-color: var(--bg-color);\n",
              "    border: none;\n",
              "    border-radius: 50%;\n",
              "    cursor: pointer;\n",
              "    display: none;\n",
              "    fill: var(--fill-color);\n",
              "    height: 32px;\n",
              "    padding: 0;\n",
              "    width: 32px;\n",
              "  }\n",
              "\n",
              "  .colab-df-quickchart:hover {\n",
              "    background-color: var(--hover-bg-color);\n",
              "    box-shadow: 0 1px 2px rgba(60, 64, 67, 0.3), 0 1px 3px 1px rgba(60, 64, 67, 0.15);\n",
              "    fill: var(--button-hover-fill-color);\n",
              "  }\n",
              "\n",
              "  .colab-df-quickchart-complete:disabled,\n",
              "  .colab-df-quickchart-complete:disabled:hover {\n",
              "    background-color: var(--disabled-bg-color);\n",
              "    fill: var(--disabled-fill-color);\n",
              "    box-shadow: none;\n",
              "  }\n",
              "\n",
              "  .colab-df-spinner {\n",
              "    border: 2px solid var(--fill-color);\n",
              "    border-color: transparent;\n",
              "    border-bottom-color: var(--fill-color);\n",
              "    animation:\n",
              "      spin 1s steps(1) infinite;\n",
              "  }\n",
              "\n",
              "  @keyframes spin {\n",
              "    0% {\n",
              "      border-color: transparent;\n",
              "      border-bottom-color: var(--fill-color);\n",
              "      border-left-color: var(--fill-color);\n",
              "    }\n",
              "    20% {\n",
              "      border-color: transparent;\n",
              "      border-left-color: var(--fill-color);\n",
              "      border-top-color: var(--fill-color);\n",
              "    }\n",
              "    30% {\n",
              "      border-color: transparent;\n",
              "      border-left-color: var(--fill-color);\n",
              "      border-top-color: var(--fill-color);\n",
              "      border-right-color: var(--fill-color);\n",
              "    }\n",
              "    40% {\n",
              "      border-color: transparent;\n",
              "      border-right-color: var(--fill-color);\n",
              "      border-top-color: var(--fill-color);\n",
              "    }\n",
              "    60% {\n",
              "      border-color: transparent;\n",
              "      border-right-color: var(--fill-color);\n",
              "    }\n",
              "    80% {\n",
              "      border-color: transparent;\n",
              "      border-right-color: var(--fill-color);\n",
              "      border-bottom-color: var(--fill-color);\n",
              "    }\n",
              "    90% {\n",
              "      border-color: transparent;\n",
              "      border-bottom-color: var(--fill-color);\n",
              "    }\n",
              "  }\n",
              "</style>\n",
              "\n",
              "  <script>\n",
              "    async function quickchart(key) {\n",
              "      const quickchartButtonEl =\n",
              "        document.querySelector('#' + key + ' button');\n",
              "      quickchartButtonEl.disabled = true;  // To prevent multiple clicks.\n",
              "      quickchartButtonEl.classList.add('colab-df-spinner');\n",
              "      try {\n",
              "        const charts = await google.colab.kernel.invokeFunction(\n",
              "            'suggestCharts', [key], {});\n",
              "      } catch (error) {\n",
              "        console.error('Error during call to suggestCharts:', error);\n",
              "      }\n",
              "      quickchartButtonEl.classList.remove('colab-df-spinner');\n",
              "      quickchartButtonEl.classList.add('colab-df-quickchart-complete');\n",
              "    }\n",
              "    (() => {\n",
              "      let quickchartButtonEl =\n",
              "        document.querySelector('#df-49f9407b-95f3-4106-a87d-fe3b1dd33200 button');\n",
              "      quickchartButtonEl.style.display =\n",
              "        google.colab.kernel.accessAllowed ? 'block' : 'none';\n",
              "    })();\n",
              "  </script>\n",
              "</div>\n",
              "\n",
              "    </div>\n",
              "  </div>\n"
            ],
            "text/plain": [
              "       number  reassignment_count  reopen_count  sys_mod_count  made_sla  \\\n",
              "0  INC0000045                   0             0              4         1   \n",
              "1  INC0000047                   1             0              8         1   \n",
              "2  INC0000057                   0             0              6         1   \n",
              "4  INC0000062                   1             0              7         0   \n",
              "5  INC0000063                   1             0              7         1   \n",
              "\n",
              "   priority  knowledge  first_access_hrs  rfc_inc  time_to_resolve  over_12  \n",
              "0       1.0          1               7.6        0             10.2        0  \n",
              "1       1.0          1               0.8        0             29.2        0  \n",
              "2       1.0          1               0.5        0             20.8        0  \n",
              "4       2.0          1               0.5        0              8.9        0  \n",
              "5       1.0          1               0.2        0              8.9        0  "
            ]
          },
          "execution_count": 35,
          "metadata": {},
          "output_type": "execute_result"
        }
      ],
      "source": [
        "incidents_proc_2.loc[:, 'over_12'] = (incidents_proc_2['first_access_hrs'] > 12).astype(int)\n",
        "incidents_proc_2.head()"
      ]
    },
    {
      "cell_type": "markdown",
      "metadata": {
        "id": "mVJFU2C4cU6b"
      },
      "source": [
        "## Task 3.0 Deriving Average Treatment Effect with CausalML\n",
        "\n",
        "A subset of features are selected for this task. The target is time to resolve ticket (in hours). The treatment is whether or not the time to first ticket access was over 12 hrs. The other features are sys_mod_count, priority, knowledge, rfc_inc.\n",
        "\n",
        "Reassignment count and reopen count are not included due to a correlation above the 0.9 threshold. The ticket ID is not included but preserved for future enrichment of dataset from original log data. The made_sla feature would leak information and is thus excluded from this analysis but preserved for potential classification analysis with dataset in the future."
      ]
    },
    {
      "cell_type": "code",
      "execution_count": 36,
      "metadata": {
        "id": "2mWUy4T4crOT"
      },
      "outputs": [],
      "source": [
        "incidents_df = incidents_proc_2.copy()"
      ]
    },
    {
      "cell_type": "code",
      "execution_count": 37,
      "metadata": {
        "id": "5uqB_y9qkoOw"
      },
      "outputs": [],
      "source": [
        "X = incidents_df[['sys_mod_count', 'priority', 'knowledge', 'rfc_inc']]\n",
        "y = incidents_df['time_to_resolve']\n",
        "treatment = incidents_df['over_12']"
      ]
    },
    {
      "cell_type": "markdown",
      "metadata": {
        "id": "tuDb8NkkiyQL"
      },
      "source": [
        "### Task 3.1 SLearner and TLearner Derivations"
      ]
    },
    {
      "cell_type": "code",
      "execution_count": 38,
      "metadata": {
        "colab": {
          "base_uri": "https://localhost:8080/"
        },
        "id": "-ech9gVcoXCB",
        "outputId": "aec09ef7-28a7-48ac-a30e-4d352672bc93"
      },
      "outputs": [
        {
          "name": "stdout",
          "output_type": "stream",
          "text": [
            "Average Treatment Effect (Linear Regression): 102.68 (96.36, 109.01)\n"
          ]
        }
      ],
      "source": [
        "# SLearner\n",
        "lr = LRSRegressor()\n",
        "te, lb, ub = lr.estimate_ate(X, treatment, y)\n",
        "print('Average Treatment Effect (Linear Regression): {:.2f} ({:.2f}, {:.2f})'.format(te[0], lb[0], ub[0]))"
      ]
    },
    {
      "cell_type": "markdown",
      "metadata": {
        "id": "2UqGWVGJfwFZ"
      },
      "source": [
        "The S-Learner, which uses a single base learner with the treatment as a feature estimated the average effect of the first ticket access being over 12 hours is in increase of 102 hours in time to resolve.\n",
        "\n",
        "The thirs quartile for time to resolve is 120 hours. Thus, in context the figure is not implausible. However, the assumption of a linear relationship would not reflect reality."
      ]
    },
    {
      "cell_type": "code",
      "execution_count": 39,
      "metadata": {
        "colab": {
          "base_uri": "https://localhost:8080/"
        },
        "id": "6kWOuzhjocaR",
        "outputId": "5d8365d8-383c-4e80-ac9d-dd17e20adca1"
      },
      "outputs": [
        {
          "name": "stdout",
          "output_type": "stream",
          "text": [
            "Average Treatment Effect (XGBoost): 39.30 (35.33, 43.26)\n"
          ]
        }
      ],
      "source": [
        "# TLearner\n",
        "xg = XGBTRegressor(random_state=42)\n",
        "te, lb, ub = xg.estimate_ate(X, treatment, y)\n",
        "print('Average Treatment Effect (XGBoost): {:.2f} ({:.2f}, {:.2f})'.format(te[0], lb[0], ub[0]))"
      ]
    },
    {
      "cell_type": "markdown",
      "metadata": {
        "id": "BdxTtb9Ug1Cm"
      },
      "source": [
        "The XGBoost T-Learner, which has a base learner for the treatment and the control group, estimated an ATE of 39 hours. This figure appears more plausible for the effect of this single treatment."
      ]
    },
    {
      "cell_type": "markdown",
      "metadata": {
        "id": "d-lvW2PgjOw5"
      },
      "source": [
        "### Task 3.1.1 ATE Derivations with Controls\n",
        "Subsetting data to only medium priority tickets (1.0 in ordinal encoding)"
      ]
    },
    {
      "cell_type": "code",
      "execution_count": 40,
      "metadata": {
        "id": "QndyaQD7jdRm"
      },
      "outputs": [],
      "source": [
        "med_incidents = incidents_df.copy()\n",
        "med_incidents = med_incidents[med_incidents['priority'] == 1.0]"
      ]
    },
    {
      "cell_type": "code",
      "execution_count": 41,
      "metadata": {
        "id": "Bu50rKJHkyxO"
      },
      "outputs": [],
      "source": [
        "X = med_incidents[['sys_mod_count', 'priority', 'knowledge', 'rfc_inc']]\n",
        "y = med_incidents['time_to_resolve']\n",
        "treatment = med_incidents['over_12']"
      ]
    },
    {
      "cell_type": "code",
      "execution_count": 42,
      "metadata": {
        "colab": {
          "base_uri": "https://localhost:8080/"
        },
        "id": "9rvMKwSSk_8S",
        "outputId": "7d04433d-27dd-455c-eea9-43a597ca2897"
      },
      "outputs": [
        {
          "name": "stdout",
          "output_type": "stream",
          "text": [
            "Average Treatment Effect (Linear Regression): 101.51 (95.01, 108.01)\n"
          ]
        }
      ],
      "source": [
        "# SLearner\n",
        "lr = LRSRegressor()\n",
        "te, lb, ub = lr.estimate_ate(X, treatment, y)\n",
        "print('Average Treatment Effect (Linear Regression): {:.2f} ({:.2f}, {:.2f})'.format(te[0], lb[0], ub[0]))"
      ]
    },
    {
      "cell_type": "code",
      "execution_count": 43,
      "metadata": {
        "colab": {
          "base_uri": "https://localhost:8080/"
        },
        "id": "h-bIX0y2lDTc",
        "outputId": "71a60bb4-ea64-4999-a8f4-855092b9d803"
      },
      "outputs": [
        {
          "name": "stdout",
          "output_type": "stream",
          "text": [
            "Average Treatment Effect (XGBoost): 36.04 (31.96, 40.12)\n"
          ]
        }
      ],
      "source": [
        "# TLearner\n",
        "xg = XGBTRegressor(random_state=42)\n",
        "te, lb, ub = xg.estimate_ate(X, treatment, y)\n",
        "print('Average Treatment Effect (XGBoost): {:.2f} ({:.2f}, {:.2f})'.format(te[0], lb[0], ub[0]))"
      ]
    },
    {
      "cell_type": "markdown",
      "metadata": {
        "id": "Y77WZ7yClIEO"
      },
      "source": [
        "When controlling for the priority of the ticket, the derived ATE is slightly lower but still comparable to the previous derivations."
      ]
    },
    {
      "cell_type": "markdown",
      "metadata": {
        "id": "9GI9OL4DmfLd"
      },
      "source": [
        "Now subsetting to only high or critical tickets to observe level of heterogeneity in treatment effects."
      ]
    },
    {
      "cell_type": "code",
      "execution_count": 47,
      "metadata": {
        "id": "8_BsHcBQmWwW"
      },
      "outputs": [],
      "source": [
        "hc_incidents = incidents_df.copy()\n",
        "hc_incidents = hc_incidents[(hc_incidents['priority'] == 2.0) | (hc_incidents['priority'] == 3.0)]"
      ]
    },
    {
      "cell_type": "code",
      "execution_count": 48,
      "metadata": {
        "id": "zu65ggCYmvcQ"
      },
      "outputs": [],
      "source": [
        "X = hc_incidents[['sys_mod_count', 'priority', 'knowledge', 'rfc_inc']]\n",
        "y = hc_incidents['time_to_resolve']\n",
        "treatment = hc_incidents['over_12']"
      ]
    },
    {
      "cell_type": "code",
      "execution_count": 49,
      "metadata": {
        "colab": {
          "base_uri": "https://localhost:8080/"
        },
        "id": "CPUUiTjOm4ab",
        "outputId": "875bfcbe-ee32-46a1-9868-30b2b31beec1"
      },
      "outputs": [
        {
          "name": "stdout",
          "output_type": "stream",
          "text": [
            "Average Treatment Effect (Linear Regression): 130.12 (66.13, 194.10)\n"
          ]
        }
      ],
      "source": [
        "# SLearner\n",
        "lr = LRSRegressor()\n",
        "te, lb, ub = lr.estimate_ate(X, treatment, y)\n",
        "print('Average Treatment Effect (Linear Regression): {:.2f} ({:.2f}, {:.2f})'.format(te[0], lb[0], ub[0]))"
      ]
    },
    {
      "cell_type": "code",
      "execution_count": 50,
      "metadata": {
        "colab": {
          "base_uri": "https://localhost:8080/"
        },
        "id": "oFIVnrVkm_kI",
        "outputId": "e2e13299-7f91-481c-8fe5-53df055ec3cd"
      },
      "outputs": [
        {
          "name": "stdout",
          "output_type": "stream",
          "text": [
            "Average Treatment Effect (XGBoost): 117.02 (94.94, 139.10)\n"
          ]
        }
      ],
      "source": [
        "# TLearner\n",
        "xg = XGBTRegressor(random_state=42)\n",
        "te, lb, ub = xg.estimate_ate(X, treatment, y)\n",
        "print('Average Treatment Effect (XGBoost): {:.2f} ({:.2f}, {:.2f})'.format(te[0], lb[0], ub[0]))"
      ]
    },
    {
      "cell_type": "markdown",
      "metadata": {
        "id": "KyyunrPYnDUz"
      },
      "source": [
        "The ATE for high and critical tickets is vastly different, especially in the case of the T-Learner. There are significantly fewer observations for these cases. However this wide gap in the derived ATEs suggests that the priority, which incorporates both impact and urgency, may actually be a confounding factor."
      ]
    },
    {
      "cell_type": "code",
      "execution_count": 51,
      "metadata": {
        "colab": {
          "base_uri": "https://localhost:8080/"
        },
        "id": "zcsF7aN-lpKj",
        "outputId": "b27edd3a-c059-4b41-808d-243c4a8f9318"
      },
      "outputs": [
        {
          "name": "stdout",
          "output_type": "stream",
          "text": [
            "Number of medium incidents: (20503, 11)\n",
            "Number of high and critical incidents: (618, 11)\n"
          ]
        }
      ],
      "source": [
        "print(f\"Number of medium incidents: {med_incidents.shape}\")\n",
        "print(f\"Number of high and critical incidents: {hc_incidents.shape}\")"
      ]
    },
    {
      "cell_type": "markdown",
      "metadata": {
        "id": "rYS-Zw-Oi4G8"
      },
      "source": [
        "### Task 3.2 Comparison of ATE Stability\n",
        "Using the medium priority incidents and lightGBM"
      ]
    },
    {
      "cell_type": "code",
      "execution_count": 52,
      "metadata": {
        "id": "pw6Dm80ii9Wl"
      },
      "outputs": [],
      "source": [
        "from sklearn.model_selection import train_test_split"
      ]
    },
    {
      "cell_type": "code",
      "execution_count": 53,
      "metadata": {
        "id": "wAo1XYKapEw4"
      },
      "outputs": [],
      "source": [
        "X = med_incidents.drop(columns=['time_to_resolve'])\n",
        "y = med_incidents['time_to_resolve']\n",
        "\n",
        "# Split the dataset into training and testing sets (75% train, 25% test)\n",
        "X_train, X_test, y_train, y_test = train_test_split(X, y, test_size=0.25, random_state=42)"
      ]
    },
    {
      "cell_type": "code",
      "execution_count": 54,
      "metadata": {
        "id": "DLDVwBprq2Jz"
      },
      "outputs": [],
      "source": [
        "treatment_train = X_train['over_12']\n",
        "treatment_test = X_test['over_12']\n",
        "\n",
        "X_train = X_train.drop(columns=['over_12'])\n",
        "X_test = X_test.drop(columns=['over_12'])"
      ]
    },
    {
      "cell_type": "code",
      "execution_count": 60,
      "metadata": {
        "id": "8Xv9BmR6tnPB"
      },
      "outputs": [],
      "source": [
        "X_train = X_train[['sys_mod_count', 'priority', 'knowledge', 'rfc_inc']]\n",
        "X_test = X_test[['sys_mod_count', 'priority', 'knowledge', 'rfc_inc']]"
      ]
    },
    {
      "cell_type": "code",
      "execution_count": 55,
      "metadata": {
        "id": "KK7L8bmooqYL"
      },
      "outputs": [],
      "source": [
        "from lightgbm import LGBMRegressor"
      ]
    },
    {
      "cell_type": "code",
      "execution_count": 57,
      "metadata": {
        "id": "MuVYDbJQtaIL"
      },
      "outputs": [],
      "source": [
        "from causalml.inference.meta import BaseSRegressor, BaseTRegressor, BaseXRegressor, BaseRRegressor"
      ]
    },
    {
      "cell_type": "code",
      "execution_count": 64,
      "metadata": {
        "id": "7vDQ8DzBu_QJ"
      },
      "outputs": [],
      "source": [
        "learner = LGBMRegressor(verbosity=-1)\n",
        "learner_t = BaseTRegressor(learner=learner, control_name=0)\n",
        "ate_train, _, _ = learner_t.estimate_ate(X=X_train, treatment=treatment_train, y=y_train)"
      ]
    },
    {
      "cell_type": "code",
      "execution_count": 65,
      "metadata": {
        "colab": {
          "base_uri": "https://localhost:8080/"
        },
        "id": "uasBG63nvJDs",
        "outputId": "18d7dbee-4597-4e07-d24a-133695f7a317"
      },
      "outputs": [
        {
          "name": "stdout",
          "output_type": "stream",
          "text": [
            "Train ATE: 38.07\n",
            "Test ATE: 38.04\n"
          ]
        }
      ],
      "source": [
        "# Get ATE for test data\n",
        "te_test= learner_t.predict(X=X_test)\n",
        "ate_test = te_test.mean(axis=0)[0]\n",
        "\n",
        "print(f\"Train ATE: {ate_train[0]:.2f}\")\n",
        "print(f\"Test ATE: {ate_test:.2f}\")"
      ]
    },
    {
      "cell_type": "markdown",
      "metadata": {
        "id": "qtWVale_ufdB"
      },
      "source": [
        "There is a good level of stability between the train and test ATEs. The derived ATE also resembles that derived with the XGBoost Learner"
      ]
    },
    {
      "cell_type": "markdown",
      "metadata": {
        "id": "swHGOJG6vUtU"
      },
      "source": [
        "## Task 4.0 Feature Importances"
      ]
    },
    {
      "cell_type": "code",
      "execution_count": 66,
      "metadata": {
        "id": "ePHdypKuvnrW"
      },
      "outputs": [],
      "source": [
        "# Ensuring the med_incidents configuration is being used\n",
        "X = med_incidents[['sys_mod_count', 'priority', 'knowledge', 'rfc_inc']]\n",
        "y = med_incidents['time_to_resolve']\n",
        "treatment = med_incidents['over_12']"
      ]
    },
    {
      "cell_type": "code",
      "execution_count": 67,
      "metadata": {
        "id": "NlimeibFopVJ"
      },
      "outputs": [],
      "source": [
        "w_multi = np.array(['over_12' if x == 1 else 'control' for x in treatment])"
      ]
    },
    {
      "cell_type": "code",
      "execution_count": 68,
      "metadata": {
        "colab": {
          "base_uri": "https://localhost:8080/"
        },
        "id": "isEeO7Q9oxlB",
        "outputId": "32e6a31e-8cc1-4988-f726-fcccb5b2d347"
      },
      "outputs": [
        {
          "name": "stdout",
          "output_type": "stream",
          "text": [
            "[LightGBM] [Info] Auto-choosing col-wise multi-threading, the overhead of testing was 0.000978 seconds.\n",
            "You can set `force_col_wise=true` to remove the overhead.\n",
            "[LightGBM] [Info] Total Bins 57\n",
            "[LightGBM] [Info] Number of data points in the train set: 20503, number of used features: 4\n",
            "[LightGBM] [Info] Start training from score 106.276374\n",
            "[LightGBM] [Info] Auto-choosing col-wise multi-threading, the overhead of testing was 0.000922 seconds.\n",
            "You can set `force_col_wise=true` to remove the overhead.\n",
            "[LightGBM] [Info] Total Bins 57\n",
            "[LightGBM] [Info] Number of data points in the train set: 20503, number of used features: 4\n",
            "[LightGBM] [Info] Start training from score 106.276374\n"
          ]
        }
      ],
      "source": [
        "slearner = BaseSRegressor(LGBMRegressor(), control_name='control')\n",
        "slearner.estimate_ate(X, w_multi, y)\n",
        "slearner_tau = slearner.fit_predict(X, w_multi, y)"
      ]
    },
    {
      "cell_type": "code",
      "execution_count": 69,
      "metadata": {
        "id": "RqxKiQx3ozkx"
      },
      "outputs": [],
      "source": [
        "from sklearn.ensemble import RandomForestRegressor"
      ]
    },
    {
      "cell_type": "code",
      "execution_count": 71,
      "metadata": {
        "colab": {
          "base_uri": "https://localhost:8080/"
        },
        "id": "m9bV3PD3whb7",
        "outputId": "a0007285-1941-4d9e-e394-28efd90c4803"
      },
      "outputs": [
        {
          "name": "stdout",
          "output_type": "stream",
          "text": [
            "   sys_mod_count  priority  knowledge  rfc_inc  over_12\n",
            "0              4       1.0          1        0        0\n",
            "1              8       1.0          1        0        0\n",
            "2              6       1.0          1        0        0\n",
            "5              7       1.0          1        0        0\n",
            "6              8       1.0          1        0        0\n"
          ]
        }
      ],
      "source": [
        "# Adding treatment back, in order to have it displayed in feature importance plot\n",
        "X2 = X.copy()\n",
        "X2['over_12'] = treatment\n",
        "print(X2.head())"
      ]
    },
    {
      "cell_type": "code",
      "execution_count": 72,
      "metadata": {
        "colab": {
          "base_uri": "https://localhost:8080/"
        },
        "id": "PkJAeWxfrZmc",
        "outputId": "f973e2ac-7330-466a-ceb4-6b249e147edd"
      },
      "outputs": [
        {
          "data": {
            "text/plain": [
              "{'over_12': sys_mod_count    0.911543\n",
              " knowledge        0.077925\n",
              " rfc_inc          0.010510\n",
              " over_12          0.000022\n",
              " priority         0.000000\n",
              " dtype: float64}"
            ]
          },
          "execution_count": 72,
          "metadata": {},
          "output_type": "execute_result"
        }
      ],
      "source": [
        "model_tau_feature = RandomForestRegressor()\n",
        "slearner.get_importance(X=X2, tau=slearner_tau, model_tau_feature=model_tau_feature,\n",
        "normalize=True, method='auto', features= [X2.columns])"
      ]
    },
    {
      "cell_type": "code",
      "execution_count": 74,
      "metadata": {
        "colab": {
          "base_uri": "https://localhost:8080/",
          "height": 737
        },
        "id": "LLdx4aPNrjhF",
        "outputId": "5450c331-03e0-4d28-8984-04cb5b488f1f"
      },
      "outputs": [
        {
          "data": {
            "image/png": "[encoded data removed]",
            "text/plain": [
              "<Figure size 1200x800 with 1 Axes>"
            ]
          },
          "metadata": {},
          "output_type": "display_data"
        }
      ],
      "source": [
        "slearner.plot_importance(X=X2, tau=slearner_tau, normalize=True, model_tau_feature=model_tau_feature, method='auto', features=X2.columns)"
      ]
    },
    {
      "cell_type": "markdown",
      "metadata": {
        "id": "YU37hHNyyGLp"
      },
      "source": [
        "The system modification count is displaying the highest feature importance to the target. However, this is not something that can or should really be manipulated as a treatment. It can capture some information about how much attention a ticket is getting. At the same time, in many cases it would naturally increase the longer a ticket is open. It's a similar story with rfc_inc. Whether or not an incident is related to an RFC isn't something that can be adjusted.\n",
        "\n",
        "However, the importance of the knowledge variable is intriguing. There's a potential that referencing existing knowledge base documents is an underutilized method for closing incidents more quickly."
      ]
    },
    {
      "cell_type": "code",
      "execution_count": 75,
      "metadata": {
        "colab": {
          "base_uri": "https://localhost:8080/"
        },
        "id": "kpaJ0IzczmN9",
        "outputId": "2ce9112c-ee5f-4131-d782-e721614f4bd5"
      },
      "outputs": [
        {
          "data": {
            "text/plain": [
              "{'over_12': sys_mod_count    1.940451\n",
              " knowledge        0.380246\n",
              " rfc_inc          0.012512\n",
              " over_12          0.000084\n",
              " priority         0.000000\n",
              " dtype: float64}"
            ]
          },
          "execution_count": 75,
          "metadata": {},
          "output_type": "execute_result"
        }
      ],
      "source": [
        "slearner.get_importance(X=X2, tau=slearner_tau, model_tau_feature=model_tau_feature,\n",
        "normalize=True, method='permutation', features= [X2.columns])"
      ]
    },
    {
      "cell_type": "code",
      "execution_count": 76,
      "metadata": {
        "colab": {
          "base_uri": "https://localhost:8080/",
          "height": 737
        },
        "id": "j4cWMPua0EK9",
        "outputId": "3f897566-4949-4d73-8020-4f12678b0139"
      },
      "outputs": [
        {
          "data": {
            "image/png": "[encoded data removed]",
            "text/plain": [
              "<Figure size 1200x800 with 1 Axes>"
            ]
          },
          "metadata": {},
          "output_type": "display_data"
        }
      ],
      "source": [
        "slearner.plot_importance(X=X2, tau=slearner_tau, normalize=True, model_tau_feature=model_tau_feature, method='permutation', features=X2.columns)"
      ]
    },
    {
      "cell_type": "markdown",
      "metadata": {
        "id": "jloHNb4p0Kh3"
      },
      "source": [
        "After validating the importance of referencing knowledge documents through an additional feature importance method, an ATE estimation of this treatment is well warranted."
      ]
    },
    {
      "cell_type": "markdown",
      "metadata": {
        "id": "XFsY1Qqb0clT"
      },
      "source": [
        "## Task 5.0 Assessing Alternate Treatment"
      ]
    },
    {
      "cell_type": "code",
      "execution_count": 77,
      "metadata": {
        "colab": {
          "base_uri": "https://localhost:8080/",
          "height": 201
        },
        "id": "iXVN6Gsx0r-D",
        "outputId": "9c63c637-80a6-48ad-9f5f-7d7a28532c4f"
      },
      "outputs": [
        {
          "data": {
            "text/html": [
              "\n",
              "  <div id=\"df-ced1fb3a-1482-4da5-8c5e-09baacd84e87\" class=\"colab-df-container\">\n",
              "    <div>\n",
              "<style scoped>\n",
              "    .dataframe tbody tr th:only-of-type {\n",
              "        vertical-align: middle;\n",
              "    }\n",
              "\n",
              "    .dataframe tbody tr th {\n",
              "        vertical-align: top;\n",
              "    }\n",
              "\n",
              "    .dataframe thead th {\n",
              "        text-align: right;\n",
              "    }\n",
              "</style>\n",
              "<table border=\"1\" class=\"dataframe\">\n",
              "  <thead>\n",
              "    <tr style=\"text-align: right;\">\n",
              "      <th></th>\n",
              "      <th>number</th>\n",
              "      <th>reassignment_count</th>\n",
              "      <th>reopen_count</th>\n",
              "      <th>sys_mod_count</th>\n",
              "      <th>made_sla</th>\n",
              "      <th>priority</th>\n",
              "      <th>knowledge</th>\n",
              "      <th>first_access_hrs</th>\n",
              "      <th>rfc_inc</th>\n",
              "      <th>time_to_resolve</th>\n",
              "      <th>over_12</th>\n",
              "    </tr>\n",
              "  </thead>\n",
              "  <tbody>\n",
              "    <tr>\n",
              "      <th>0</th>\n",
              "      <td>INC0000045</td>\n",
              "      <td>0</td>\n",
              "      <td>0</td>\n",
              "      <td>4</td>\n",
              "      <td>1</td>\n",
              "      <td>1.0</td>\n",
              "      <td>1</td>\n",
              "      <td>7.6</td>\n",
              "      <td>0</td>\n",
              "      <td>10.2</td>\n",
              "      <td>0</td>\n",
              "    </tr>\n",
              "    <tr>\n",
              "      <th>1</th>\n",
              "      <td>INC0000047</td>\n",
              "      <td>1</td>\n",
              "      <td>0</td>\n",
              "      <td>8</td>\n",
              "      <td>1</td>\n",
              "      <td>1.0</td>\n",
              "      <td>1</td>\n",
              "      <td>0.8</td>\n",
              "      <td>0</td>\n",
              "      <td>29.2</td>\n",
              "      <td>0</td>\n",
              "    </tr>\n",
              "    <tr>\n",
              "      <th>2</th>\n",
              "      <td>INC0000057</td>\n",
              "      <td>0</td>\n",
              "      <td>0</td>\n",
              "      <td>6</td>\n",
              "      <td>1</td>\n",
              "      <td>1.0</td>\n",
              "      <td>1</td>\n",
              "      <td>0.5</td>\n",
              "      <td>0</td>\n",
              "      <td>20.8</td>\n",
              "      <td>0</td>\n",
              "    </tr>\n",
              "    <tr>\n",
              "      <th>5</th>\n",
              "      <td>INC0000063</td>\n",
              "      <td>1</td>\n",
              "      <td>0</td>\n",
              "      <td>7</td>\n",
              "      <td>1</td>\n",
              "      <td>1.0</td>\n",
              "      <td>1</td>\n",
              "      <td>0.2</td>\n",
              "      <td>0</td>\n",
              "      <td>8.9</td>\n",
              "      <td>0</td>\n",
              "    </tr>\n",
              "    <tr>\n",
              "      <th>6</th>\n",
              "      <td>INC0000064</td>\n",
              "      <td>1</td>\n",
              "      <td>0</td>\n",
              "      <td>8</td>\n",
              "      <td>1</td>\n",
              "      <td>1.0</td>\n",
              "      <td>1</td>\n",
              "      <td>0.1</td>\n",
              "      <td>0</td>\n",
              "      <td>80.8</td>\n",
              "      <td>0</td>\n",
              "    </tr>\n",
              "  </tbody>\n",
              "</table>\n",
              "</div>\n",
              "    <div class=\"colab-df-buttons\">\n",
              "\n",
              "  <div class=\"colab-df-container\">\n",
              "    <button class=\"colab-df-convert\" onclick=\"convertToInteractive('df-ced1fb3a-1482-4da5-8c5e-09baacd84e87')\"\n",
              "            title=\"Convert this dataframe to an interactive table.\"\n",
              "            style=\"display:none;\">\n",
              "\n",
              "  <svg xmlns=\"http://www.w3.org/2000/svg\" height=\"24px\" viewBox=\"0 -960 960 960\">\n",
              "    <path d=\"M120-120v-720h720v720H120Zm60-500h600v-160H180v160Zm220 220h160v-160H400v160Zm0 220h160v-160H400v160ZM180-400h160v-160H180v160Zm440 0h160v-160H620v160ZM180-180h160v-160H180v160Zm440 0h160v-160H620v160Z\"/>\n",
              "  </svg>\n",
              "    </button>\n",
              "\n",
              "  <style>\n",
              "    .colab-df-container {\n",
              "      display:flex;\n",
              "      gap: 12px;\n",
              "    }\n",
              "\n",
              "    .colab-df-convert {\n",
              "      background-color: #E8F0FE;\n",
              "      border: none;\n",
              "      border-radius: 50%;\n",
              "      cursor: pointer;\n",
              "      display: none;\n",
              "      fill: #1967D2;\n",
              "      height: 32px;\n",
              "      padding: 0 0 0 0;\n",
              "      width: 32px;\n",
              "    }\n",
              "\n",
              "    .colab-df-convert:hover {\n",
              "      background-color: #E2EBFA;\n",
              "      box-shadow: 0px 1px 2px rgba(60, 64, 67, 0.3), 0px 1px 3px 1px rgba(60, 64, 67, 0.15);\n",
              "      fill: #174EA6;\n",
              "    }\n",
              "\n",
              "    .colab-df-buttons div {\n",
              "      margin-bottom: 4px;\n",
              "    }\n",
              "\n",
              "    [theme=dark] .colab-df-convert {\n",
              "      background-color: #3B4455;\n",
              "      fill: #D2E3FC;\n",
              "    }\n",
              "\n",
              "    [theme=dark] .colab-df-convert:hover {\n",
              "      background-color: #434B5C;\n",
              "      box-shadow: 0px 1px 3px 1px rgba(0, 0, 0, 0.15);\n",
              "      filter: drop-shadow(0px 1px 2px rgba(0, 0, 0, 0.3));\n",
              "      fill: #FFFFFF;\n",
              "    }\n",
              "  </style>\n",
              "\n",
              "    <script>\n",
              "      const buttonEl =\n",
              "        document.querySelector('#df-ced1fb3a-1482-4da5-8c5e-09baacd84e87 button.colab-df-convert');\n",
              "      buttonEl.style.display =\n",
              "        google.colab.kernel.accessAllowed ? 'block' : 'none';\n",
              "\n",
              "      async function convertToInteractive(key) {\n",
              "        const element = document.querySelector('#df-ced1fb3a-1482-4da5-8c5e-09baacd84e87');\n",
              "        const dataTable =\n",
              "          await google.colab.kernel.invokeFunction('convertToInteractive',\n",
              "                                                    [key], {});\n",
              "        if (!dataTable) return;\n",
              "\n",
              "        const docLinkHtml = 'Like what you see? Visit the ' +\n",
              "          '<a target=\"_blank\" href=https://colab.research.google.com/notebooks/data_table.ipynb>data table notebook</a>'\n",
              "          + ' to learn more about interactive tables.';\n",
              "        element.innerHTML = '';\n",
              "        dataTable['output_type'] = 'display_data';\n",
              "        await google.colab.output.renderOutput(dataTable, element);\n",
              "        const docLink = document.createElement('div');\n",
              "        docLink.innerHTML = docLinkHtml;\n",
              "        element.appendChild(docLink);\n",
              "      }\n",
              "    </script>\n",
              "  </div>\n",
              "\n",
              "\n",
              "<div id=\"df-31494217-c9c8-4fb4-a1d3-1998710c97e2\">\n",
              "  <button class=\"colab-df-quickchart\" onclick=\"quickchart('df-31494217-c9c8-4fb4-a1d3-1998710c97e2')\"\n",
              "            title=\"Suggest charts\"\n",
              "            style=\"display:none;\">\n",
              "\n",
              "<svg xmlns=\"http://www.w3.org/2000/svg\" height=\"24px\"viewBox=\"0 0 24 24\"\n",
              "     width=\"24px\">\n",
              "    <g>\n",
              "        <path d=\"M19 3H5c-1.1 0-2 .9-2 2v14c0 1.1.9 2 2 2h14c1.1 0 2-.9 2-2V5c0-1.1-.9-2-2-2zM9 17H7v-7h2v7zm4 0h-2V7h2v10zm4 0h-2v-4h2v4z\"/>\n",
              "    </g>\n",
              "</svg>\n",
              "  </button>\n",
              "\n",
              "<style>\n",
              "  .colab-df-quickchart {\n",
              "      --bg-color: #E8F0FE;\n",
              "      --fill-color: #1967D2;\n",
              "      --hover-bg-color: #E2EBFA;\n",
              "      --hover-fill-color: #174EA6;\n",
              "      --disabled-fill-color: #AAA;\n",
              "      --disabled-bg-color: #DDD;\n",
              "  }\n",
              "\n",
              "  [theme=dark] .colab-df-quickchart {\n",
              "      --bg-color: #3B4455;\n",
              "      --fill-color: #D2E3FC;\n",
              "      --hover-bg-color: #434B5C;\n",
              "      --hover-fill-color: #FFFFFF;\n",
              "      --disabled-bg-color: #3B4455;\n",
              "      --disabled-fill-color: #666;\n",
              "  }\n",
              "\n",
              "  .colab-df-quickchart {\n",
              "    background-color: var(--bg-color);\n",
              "    border: none;\n",
              "    border-radius: 50%;\n",
              "    cursor: pointer;\n",
              "    display: none;\n",
              "    fill: var(--fill-color);\n",
              "    height: 32px;\n",
              "    padding: 0;\n",
              "    width: 32px;\n",
              "  }\n",
              "\n",
              "  .colab-df-quickchart:hover {\n",
              "    background-color: var(--hover-bg-color);\n",
              "    box-shadow: 0 1px 2px rgba(60, 64, 67, 0.3), 0 1px 3px 1px rgba(60, 64, 67, 0.15);\n",
              "    fill: var(--button-hover-fill-color);\n",
              "  }\n",
              "\n",
              "  .colab-df-quickchart-complete:disabled,\n",
              "  .colab-df-quickchart-complete:disabled:hover {\n",
              "    background-color: var(--disabled-bg-color);\n",
              "    fill: var(--disabled-fill-color);\n",
              "    box-shadow: none;\n",
              "  }\n",
              "\n",
              "  .colab-df-spinner {\n",
              "    border: 2px solid var(--fill-color);\n",
              "    border-color: transparent;\n",
              "    border-bottom-color: var(--fill-color);\n",
              "    animation:\n",
              "      spin 1s steps(1) infinite;\n",
              "  }\n",
              "\n",
              "  @keyframes spin {\n",
              "    0% {\n",
              "      border-color: transparent;\n",
              "      border-bottom-color: var(--fill-color);\n",
              "      border-left-color: var(--fill-color);\n",
              "    }\n",
              "    20% {\n",
              "      border-color: transparent;\n",
              "      border-left-color: var(--fill-color);\n",
              "      border-top-color: var(--fill-color);\n",
              "    }\n",
              "    30% {\n",
              "      border-color: transparent;\n",
              "      border-left-color: var(--fill-color);\n",
              "      border-top-color: var(--fill-color);\n",
              "      border-right-color: var(--fill-color);\n",
              "    }\n",
              "    40% {\n",
              "      border-color: transparent;\n",
              "      border-right-color: var(--fill-color);\n",
              "      border-top-color: var(--fill-color);\n",
              "    }\n",
              "    60% {\n",
              "      border-color: transparent;\n",
              "      border-right-color: var(--fill-color);\n",
              "    }\n",
              "    80% {\n",
              "      border-color: transparent;\n",
              "      border-right-color: var(--fill-color);\n",
              "      border-bottom-color: var(--fill-color);\n",
              "    }\n",
              "    90% {\n",
              "      border-color: transparent;\n",
              "      border-bottom-color: var(--fill-color);\n",
              "    }\n",
              "  }\n",
              "</style>\n",
              "\n",
              "  <script>\n",
              "    async function quickchart(key) {\n",
              "      const quickchartButtonEl =\n",
              "        document.querySelector('#' + key + ' button');\n",
              "      quickchartButtonEl.disabled = true;  // To prevent multiple clicks.\n",
              "      quickchartButtonEl.classList.add('colab-df-spinner');\n",
              "      try {\n",
              "        const charts = await google.colab.kernel.invokeFunction(\n",
              "            'suggestCharts', [key], {});\n",
              "      } catch (error) {\n",
              "        console.error('Error during call to suggestCharts:', error);\n",
              "      }\n",
              "      quickchartButtonEl.classList.remove('colab-df-spinner');\n",
              "      quickchartButtonEl.classList.add('colab-df-quickchart-complete');\n",
              "    }\n",
              "    (() => {\n",
              "      let quickchartButtonEl =\n",
              "        document.querySelector('#df-31494217-c9c8-4fb4-a1d3-1998710c97e2 button');\n",
              "      quickchartButtonEl.style.display =\n",
              "        google.colab.kernel.accessAllowed ? 'block' : 'none';\n",
              "    })();\n",
              "  </script>\n",
              "</div>\n",
              "\n",
              "    </div>\n",
              "  </div>\n"
            ],
            "text/plain": [
              "       number  reassignment_count  reopen_count  sys_mod_count  made_sla  \\\n",
              "0  INC0000045                   0             0              4         1   \n",
              "1  INC0000047                   1             0              8         1   \n",
              "2  INC0000057                   0             0              6         1   \n",
              "5  INC0000063                   1             0              7         1   \n",
              "6  INC0000064                   1             0              8         1   \n",
              "\n",
              "   priority  knowledge  first_access_hrs  rfc_inc  time_to_resolve  over_12  \n",
              "0       1.0          1               7.6        0             10.2        0  \n",
              "1       1.0          1               0.8        0             29.2        0  \n",
              "2       1.0          1               0.5        0             20.8        0  \n",
              "5       1.0          1               0.2        0              8.9        0  \n",
              "6       1.0          1               0.1        0             80.8        0  "
            ]
          },
          "execution_count": 77,
          "metadata": {},
          "output_type": "execute_result"
        }
      ],
      "source": [
        "med_incidents.head()"
      ]
    },
    {
      "cell_type": "code",
      "execution_count": 78,
      "metadata": {
        "id": "Dx-KrAIy0nJT"
      },
      "outputs": [],
      "source": [
        "X = med_incidents[['sys_mod_count', 'priority', 'first_access_hrs', 'rfc_inc']]\n",
        "y = med_incidents['time_to_resolve']\n",
        "treatment = med_incidents['knowledge']"
      ]
    },
    {
      "cell_type": "code",
      "execution_count": 79,
      "metadata": {
        "colab": {
          "base_uri": "https://localhost:8080/"
        },
        "id": "IHHKRtW91OMl",
        "outputId": "7029f918-0be2-4c81-fe77-333eb2796575"
      },
      "outputs": [
        {
          "name": "stdout",
          "output_type": "stream",
          "text": [
            "Average Treatment Effect (XGBoost): 2.19 (-1.91, 6.29)\n"
          ]
        }
      ],
      "source": [
        "# TLearner\n",
        "xg = XGBTRegressor(random_state=42)\n",
        "te, lb, ub = xg.estimate_ate(X, treatment, y)\n",
        "print('Average Treatment Effect (XGBoost): {:.2f} ({:.2f}, {:.2f})'.format(te[0], lb[0], ub[0]))"
      ]
    },
    {
      "cell_type": "code",
      "execution_count": 80,
      "metadata": {
        "id": "1qdhzwQM19au"
      },
      "outputs": [],
      "source": [
        "# inverting treatment for easier interpretation\n",
        "treatment = 1 - med_incidents['knowledge'] # 1 means knowledge base doc not used"
      ]
    },
    {
      "cell_type": "code",
      "execution_count": 81,
      "metadata": {
        "colab": {
          "base_uri": "https://localhost:8080/"
        },
        "id": "TJihdQ4b2F3J",
        "outputId": "a4ca41dc-8eda-420d-f829-1aed7bfab9dc"
      },
      "outputs": [
        {
          "name": "stdout",
          "output_type": "stream",
          "text": [
            "Average Treatment Effect (XGBoost): -2.19 (-6.29, 1.91)\n"
          ]
        }
      ],
      "source": [
        "# TLearner\n",
        "xg = XGBTRegressor(random_state=42)\n",
        "te, lb, ub = xg.estimate_ate(X, treatment, y)\n",
        "print('Average Treatment Effect (XGBoost): {:.2f} ({:.2f}, {:.2f})'.format(te[0], lb[0], ub[0]))"
      ]
    },
    {
      "cell_type": "markdown",
      "metadata": {
        "id": "JhDNrn0l2Lxu"
      },
      "source": [
        "According to this rapid assessment, the treatment of not accessing the knowledge docs has a mean impact of _reducing_ time to resolve. With a much smaller treatment effect and one which ranges from positive to negative, the earlier treatment identified still stands with the stronger case."
      ]
    }
  ],
  "metadata": {
    "colab": {
      "provenance": [],
      "toc_visible": true
    },
    "kernelspec": {
      "display_name": "Python 3",
      "name": "python3"
    },
    "language_info": {
      "name": "python"
    }
  },
  "nbformat": 4,
  "nbformat_minor": 0
}
